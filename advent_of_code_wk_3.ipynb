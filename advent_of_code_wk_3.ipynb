{
 "cells": [
  {
   "cell_type": "code",
   "execution_count": null,
   "metadata": {},
   "outputs": [],
   "source": [
    "import re\n",
    "import numpy as np\n",
    "from scripts.scrape import get_data, get_test_data\n",
    "import itertools\n"
   ]
  },
  {
   "cell_type": "markdown",
   "metadata": {},
   "source": [
    "# Day 15"
   ]
  },
  {
   "cell_type": "code",
   "execution_count": null,
   "metadata": {},
   "outputs": [],
   "source": [
    "data = get_data(15)\n",
    "test = get_test_data(15)\n",
    "data"
   ]
  },
  {
   "cell_type": "code",
   "execution_count": null,
   "metadata": {},
   "outputs": [],
   "source": [
    "data = [int(d) for d in data[0].split(',')]"
   ]
  },
  {
   "cell_type": "code",
   "execution_count": null,
   "metadata": {},
   "outputs": [],
   "source": [
    "seq = data.copy()\n",
    "\n",
    "last = {}\n",
    "for i in range(len(seq)):\n",
    "    last[seq[i]] = [i, i]\n",
    "for i in range(len(seq), 2020):\n",
    "    lookup = seq[i-1]\n",
    "    val = last[lookup][1] - last[lookup][0]\n",
    "    seq.append(val)\n",
    "    if val in last.keys():\n",
    "        last[val] = [last[val][1], i]\n",
    "    else: \n",
    "        last[val] = [i, i]        \n",
    "seq[-1]"
   ]
  },
  {
   "cell_type": "code",
   "execution_count": null,
   "metadata": {},
   "outputs": [],
   "source": []
  },
  {
   "cell_type": "code",
   "execution_count": null,
   "metadata": {},
   "outputs": [],
   "source": [
    "# Part 2\n",
    "\n",
    "seq = data.copy()\n",
    "\n",
    "last = {}\n",
    "for i in range(len(seq)):\n",
    "    last[seq[i]] = [i, i]\n",
    "for i in range(len(seq), 30000000):\n",
    "    lookup = seq[i-1]\n",
    "    val = last[lookup][1] - last[lookup][0]\n",
    "    seq.append(val)\n",
    "    if val in last.keys():\n",
    "        last[val] = [last[val][1], i]\n",
    "    else: \n",
    "        last[val] = [i, i]        \n",
    "\n",
    "seq[-1]"
   ]
  },
  {
   "cell_type": "markdown",
   "metadata": {},
   "source": [
    "# Day 16"
   ]
  },
  {
   "cell_type": "code",
   "execution_count": null,
   "metadata": {},
   "outputs": [],
   "source": [
    "data = get_data(16,'\\n\\n')\n",
    "test = get_test_data(16)\n",
    "data"
   ]
  },
  {
   "cell_type": "code",
   "execution_count": null,
   "metadata": {},
   "outputs": [],
   "source": [
    "data = [d.split('\\n') for d in data]"
   ]
  },
  {
   "cell_type": "code",
   "execution_count": null,
   "metadata": {},
   "outputs": [],
   "source": [
    "validation = data[0]\n",
    "my_ticket = data[1][1:]\n",
    "nearby_tickets = data[2][1:]"
   ]
  },
  {
   "cell_type": "code",
   "execution_count": null,
   "metadata": {},
   "outputs": [],
   "source": [
    "def validate(number, validation):\n",
    "    validation_ranges = [r for v in validation for r in re.findall(\"([0-9]+)-([0-9]+)\",v)]\n",
    "#     print(validation_ranges)\n",
    "    valid = [(number >= int(v[0])) & (number <= int(v[1])) for v in validation_ranges]\n",
    "#     print(valid)\n",
    "    if np.any(valid):\n",
    "        return(0)\n",
    "    else: return(number)\n",
    "    "
   ]
  },
  {
   "cell_type": "code",
   "execution_count": null,
   "metadata": {},
   "outputs": [],
   "source": [
    "np.sum([validate(int(n), validation) for t in nearby_tickets for n in t.split(',')])"
   ]
  },
  {
   "cell_type": "markdown",
   "metadata": {},
   "source": [
    "### Part 2"
   ]
  },
  {
   "cell_type": "code",
   "execution_count": null,
   "metadata": {},
   "outputs": [],
   "source": [
    "def validate(number, validation):\n",
    "    validation_ranges = [r for v in validation for r in re.findall(\"([0-9]+)-([0-9]+)\",v)]\n",
    "    valid = [(number >= int(v[0])) & (number <= int(v[1])) for v in validation_ranges]\n",
    "    if np.any(valid):\n",
    "        return(True)\n",
    "    else: return(False)\n",
    "    "
   ]
  },
  {
   "cell_type": "code",
   "execution_count": null,
   "metadata": {},
   "outputs": [],
   "source": [
    "mask = [np.all([validate(int(n), validation) for n in t.split(',')]) for t in nearby_tickets]\n",
    "nearby_tickets = np.array([[int(n) for n in t.split(',')] for t in nearby_tickets])\n",
    "nearby_tickets = nearby_tickets[mask]\n",
    "nearby_tickets"
   ]
  },
  {
   "cell_type": "code",
   "execution_count": null,
   "metadata": {},
   "outputs": [],
   "source": [
    "def guess(number):\n",
    "    validation_ranges = [r for v in validation for r in re.findall(\"([0-9]+)-([0-9]+)\",v)]\n",
    "    valid = [(number >= int(v[0])) & (number <= int(v[1])) for v in validation_ranges]\n",
    "    return(np.array(valid)[np.arange(1, 40, 2)] + np.array(valid)[np.arange(0, 39, 2)])\n",
    "guess(337)"
   ]
  },
  {
   "cell_type": "code",
   "execution_count": null,
   "metadata": {},
   "outputs": [],
   "source": [
    "truth_values = np.apply_along_axis(guess, 1, nearby_tickets)\n",
    "logic_matrix = np.array([np.apply_along_axis(np.all, 0, truth_values[:,i,:]) for i in range(20)])\n",
    "assignment = {}\n",
    "for i in range(20):\n",
    "    row = np.where(logic_matrix.sum(1) == 1)[0][0]\n",
    "    column = np.where(logic_matrix[row, :])[0][0]\n",
    "    assignment[column] = row\n",
    "    logic_matrix[:, column] = 0\n",
    "np.prod([int(my_ticket[0].split(',')[v]) for v, k in assignment.items() if k in range(6)])    "
   ]
  },
  {
   "cell_type": "code",
   "execution_count": null,
   "metadata": {},
   "outputs": [],
   "source": [
    "def check_ticket(ticket):\n",
    "    validation_ranges = [r for v in validation for r in re.findall(\"([0-9]+)-([0-9]+)\",v)]\n",
    "    valid = [(int(validation_ranges[2*assignment[idx]][0]) <= item <=  int(validation_ranges[2*assignment[idx]][1])) + \\\n",
    "        (int(validation_ranges[2*assignment[idx] + 1][0]) <= item <=  int(validation_ranges[2*assignment[idx]+ 1][1])) for idx, item in enumerate(ticket)]\n",
    "    return(np.all(valid))\n",
    "np.all([check_ticket(t) for t in nearby_tickets])"
   ]
  },
  {
   "cell_type": "markdown",
   "metadata": {},
   "source": [
    "# Day 17"
   ]
  },
  {
   "cell_type": "code",
   "execution_count": null,
   "metadata": {},
   "outputs": [],
   "source": [
    "data = get_data(17)\n",
    "test = get_test_data(17)\n",
    "data"
   ]
  },
  {
   "cell_type": "code",
   "execution_count": null,
   "metadata": {},
   "outputs": [],
   "source": [
    "cube = np.zeros([22,22,15])\n",
    "starter = np.array([list(re.sub('\\.', '0', re.sub('#', '1', d))) for d in data])\n",
    "cube[8:16, 8:16, 7] = starter"
   ]
  },
  {
   "cell_type": "code",
   "execution_count": null,
   "metadata": {},
   "outputs": [],
   "source": [
    "def grow(cube, count = 1):\n",
    "    new_cube = np.zeros([22,22,15])\n",
    "    for idx in itertools.product(np.arange(1,22), np.arange(1,22), np.arange(1,15)):\n",
    "        new_cube[idx] = cell(cube[(idx[0]-1):(idx[0]+2), \n",
    "                                  (idx[1]-1):(idx[1]+2), \n",
    "                                  (idx[2]-1):(idx[2]+2)])\n",
    "    if count == 1:    \n",
    "        return(new_cube)\n",
    "    else:\n",
    "        return(grow(new_cube, count-1))\n",
    "    \n",
    "def cell(cube):\n",
    "    center = cube[1,1,1]\n",
    "    if (bool(center) & (cube.sum() in [3,4])) | (~bool(center) & (cube.sum() == 3)):\n",
    "        return(1)\n",
    "    else: \n",
    "        return(0)\n",
    "        "
   ]
  },
  {
   "cell_type": "code",
   "execution_count": null,
   "metadata": {},
   "outputs": [],
   "source": [
    "np.sum(grow(cube, 6))"
   ]
  },
  {
   "cell_type": "markdown",
   "metadata": {},
   "source": [
    "### Part 2"
   ]
  },
  {
   "cell_type": "code",
   "execution_count": null,
   "metadata": {},
   "outputs": [],
   "source": [
    "cube = np.zeros([22,22,15,15])\n",
    "starter = np.array([list(re.sub('\\.', '0', re.sub('#', '1', d))) for d in data])\n",
    "cube[8:16, 8:16, 7, 7] = starter\n",
    "\n",
    "def grow(cube, count = 1):\n",
    "    new_cube = np.zeros([22,22,15, 15])\n",
    "    for idx in itertools.product(np.arange(1,22), np.arange(1,22), np.arange(1,15), np.arange(1,15)):\n",
    "        new_cube[idx] = cell(cube[(idx[0]-1):(idx[0]+2), \\\n",
    "                                  (idx[1]-1):(idx[1]+2), \\\n",
    "                                  (idx[2]-1):(idx[2]+2), \\\n",
    "                                  (idx[3]-1):(idx[3]+2)])\n",
    "    if count == 1:    \n",
    "        return(new_cube)\n",
    "    else:\n",
    "        return(grow(new_cube, count-1))\n",
    "    \n",
    "def cell(cube):\n",
    "    center = cube[1,1,1,1]\n",
    "    if (bool(center) & (cube.sum() in [3,4])) | (~bool(center) & (cube.sum() == 3)):\n",
    "        return(1)\n",
    "    else: \n",
    "        return(0)\n",
    "        "
   ]
  },
  {
   "cell_type": "code",
   "execution_count": null,
   "metadata": {},
   "outputs": [],
   "source": [
    "grow(cube, 6).sum()"
   ]
  },
  {
   "cell_type": "markdown",
   "metadata": {},
   "source": [
    "# Day 18"
   ]
  },
  {
   "cell_type": "code",
   "execution_count": null,
   "metadata": {},
   "outputs": [],
   "source": [
    "data = get_data(18)\n",
    "test = get_test_data(18)\n",
    "data"
   ]
  },
  {
   "cell_type": "code",
   "execution_count": null,
   "metadata": {},
   "outputs": [],
   "source": [
    "def eval_expr(expr):\n",
    "    new_expr = re.sub(\"([0-9]+)\", \"\\\\1)\", expr)\n",
    "    open_parens = np.sum([(l==\")\") - (l==\"(\") for l in list(new_expr)])\n",
    "    return eval('(' * open_parens + new_expr)"
   ]
  },
  {
   "cell_type": "code",
   "execution_count": null,
   "metadata": {},
   "outputs": [],
   "source": [
    "def parse(expr):\n",
    "    innermost = re.findall('\\([^()]*\\)', expr)\n",
    "    replacements = [(i, str(eval_expr(i[1:-1]))) for i in innermost]\n",
    "    for item in replacements:\n",
    "        expr = expr.replace(*item)\n",
    "    if '(' in expr:\n",
    "        return(parse(expr))\n",
    "    else:\n",
    "        return(eval_expr(expr))\n",
    "\n",
    "            "
   ]
  },
  {
   "cell_type": "code",
   "execution_count": null,
   "metadata": {},
   "outputs": [],
   "source": [
    "np.sum([parse(d) for d in data])"
   ]
  },
  {
   "cell_type": "markdown",
   "metadata": {},
   "source": [
    "### Part 2"
   ]
  },
  {
   "cell_type": "code",
   "execution_count": null,
   "metadata": {},
   "outputs": [],
   "source": [
    "# Part 2\n",
    "\n",
    "class num(int):\n",
    "    def __add__(self, a):\n",
    "        return num(self.__int__() * a)\n",
    "    def __mul__(self, a):\n",
    "        return num(self.__int__() + a)\n",
    "        \n"
   ]
  },
  {
   "cell_type": "code",
   "execution_count": null,
   "metadata": {},
   "outputs": [],
   "source": [
    "np.sum([eval(re.sub('([0-9]+)', 'num(\\\\1)', d.translate(str.maketrans('*+','+*')))) for d in data])"
   ]
  },
  {
   "cell_type": "markdown",
   "metadata": {},
   "source": [
    "# Day 19"
   ]
  },
  {
   "cell_type": "code",
   "execution_count": null,
   "metadata": {},
   "outputs": [],
   "source": [
    "data = get_data(19, '\\n\\n')\n",
    "test = get_test_data(19)"
   ]
  },
  {
   "cell_type": "code",
   "execution_count": null,
   "metadata": {},
   "outputs": [],
   "source": [
    "data_rules = data[0].split('\\n')\n",
    "data_values = data[1].split('\\n')\n"
   ]
  },
  {
   "cell_type": "code",
   "execution_count": null,
   "metadata": {},
   "outputs": [],
   "source": [
    "def parse_data(data):\n",
    "    rules = {}\n",
    "    for item in data:\n",
    "        key, value = re.split(':', item)\n",
    "        rules[int(key)] = value.strip(' ')\n",
    "    return(rules)\n",
    "rules = parse_data(data_rules)"
   ]
  },
  {
   "cell_type": "code",
   "execution_count": null,
   "metadata": {},
   "outputs": [],
   "source": [
    "num_extract = re.compile('(?<![0-9])([0-9]+)(?![0-9])')\n",
    "while(re.search(\"[0-9]\", rules[0])):\n",
    "    for item in num_extract.findall(rules[0]):\n",
    "        replacement = rules[int(item)]\n",
    "        if '|' in replacement:\n",
    "            replacement = '('+replacement+')'\n",
    "        rules[0] = re.sub('(?<![0-9])'+item+'(?![0-9])', replacement, rules[0])\n",
    "\n",
    "rules[0] = re.sub(' ', '', rules[0])\n",
    "rules[0] = re.sub('\"', '', rules[0])\n",
    "rules[0] = '^' + rules[0] + '$'"
   ]
  },
  {
   "cell_type": "code",
   "execution_count": null,
   "metadata": {},
   "outputs": [],
   "source": [
    "validate = re.compile(rules[0])"
   ]
  },
  {
   "cell_type": "code",
   "execution_count": null,
   "metadata": {},
   "outputs": [],
   "source": [
    "np.sum([True if validate.search(d) else False for d in data_values ])"
   ]
  },
  {
   "cell_type": "markdown",
   "metadata": {},
   "source": [
    "### Part 2"
   ]
  },
  {
   "cell_type": "code",
   "execution_count": null,
   "metadata": {},
   "outputs": [],
   "source": [
    "rules = parse_data(data_rules)\n",
    "num_extract = re.compile('(?<![0-9])([0-9]+)(?![0-9])')\n",
    "while(re.search(\"[0-9]\", rules[42])):\n",
    "    for item in num_extract.findall(rules[42]):\n",
    "        replacement = rules[int(item)]\n",
    "        if '|' in replacement:\n",
    "            replacement = '(?:'+replacement+')'\n",
    "        rules[42] = re.sub('(?<![0-9])'+item+'(?![0-9])', replacement, rules[42])\n",
    "while(re.search(\"[0-9]\", rules[31])):\n",
    "    for item in num_extract.findall(rules[31]):\n",
    "        replacement = rules[int(item)]\n",
    "        if '|' in replacement:\n",
    "            replacement = '(?:'+replacement+')'\n",
    "        rules[31] = re.sub('(?<![0-9])'+item+'(?![0-9])', replacement, rules[31])\n",
    "rules[42] = re.sub(' ', '', rules[42])\n",
    "rules[42] = re.sub('\"', '', rules[42])    \n",
    "rules[31] = re.sub(' ', '', rules[31])\n",
    "rules[31] = re.sub('\"', '', rules[31])"
   ]
  },
  {
   "cell_type": "code",
   "execution_count": null,
   "metadata": {},
   "outputs": [],
   "source": [
    "# rules[8] = '42 | 42 8', equivalent to 42+\n",
    "# rules[11] = '42 31 | 42 11 31', equivalent to 42(?R)?31\n",
    "rule_0 = regex.compile('^(?P<g42>(?:' +rules[42]+ ')+?)(?P<g31>(?:' +rules[31]+ ')+)$' )\n",
    "matched = [(rule_0.search(d).groupdict()['g42'], rule_0.search(d).groupdict()['g31']) for d in data_values if rule_0.search(d)]\n",
    "sum([(len(re.findall(rules[42], m[0])) > len(re.findall(rules[31], m[1]))) for m in matched])\n"
   ]
  },
  {
   "cell_type": "markdown",
   "metadata": {},
   "source": [
    "# Day 20\n",
    "\n",
    "This one was fun. Definitely made some mistakes trying to get the tiles to line up."
   ]
  },
  {
   "cell_type": "code",
   "execution_count": null,
   "metadata": {},
   "outputs": [],
   "source": [
    "data = get_data(20, '\\n\\n')\n",
    "# test = get_test_data(19)\n",
    "data"
   ]
  },
  {
   "cell_type": "code",
   "execution_count": null,
   "metadata": {},
   "outputs": [],
   "source": [
    "data = [d.strip('\\n').split('\\n') for d in data]"
   ]
  },
  {
   "cell_type": "code",
   "execution_count": null,
   "metadata": {},
   "outputs": [],
   "source": [
    "def parse_tile(tile):\n",
    "    id = re.findall('[0-9]+', tile[0])[0]\n",
    "    tile = np.array([list(re.sub('\\.', '0', re.sub('#', '1', t))) for t in tile[1:]])\n",
    "    hashes = []\n",
    "    # Right, Top, Left Bottom\n",
    "    hashes.append(int(''.join(tile[0,:]), 2))\n",
    "    hashes.append(int(''.join(tile[:,0]), 2))\n",
    "    hashes.append(int(''.join(tile[-1,:]), 2))\n",
    "    hashes.append(int(''.join(tile[:,-1]), 2))\n",
    "    hashes.append(int(''.join(tile[0,:])[::-1], 2))\n",
    "    hashes.append(int(''.join(tile[:,-1])[::-1], 2))\n",
    "    hashes.append(int(''.join(tile[-1,:])[::-1], 2))\n",
    "    hashes.append(int(''.join(tile[:,0])[::-1], 2))\n",
    "    \n",
    "    return(id, tile, hashes)\n",
    "    "
   ]
  },
  {
   "cell_type": "code",
   "execution_count": null,
   "metadata": {},
   "outputs": [],
   "source": [
    "class board:\n",
    "    def __init__(self, data, mode = 'all'):\n",
    "        self.board = {}     \n",
    "        self.mode = mode\n",
    "        self.unplaced = [tile(d) for d in data]\n",
    "        self.placed = []\n",
    "        self.frontier = []\n",
    "#         t = self.unplaced.pop(first_tile)\n",
    "#         self.place(t, (0,0), first_orientation)\n",
    "        \n",
    "    def continue_placement(self):\n",
    "        location = self.frontier.pop(0)\n",
    "        for idx, u in enumerate(self.unplaced):\n",
    "            placed = self.try_to_place(idx, location)\n",
    "            if placed:\n",
    "                return True\n",
    "                \n",
    "            \n",
    "\n",
    "    def check_placement(self, tile_idx, location, orientation):\n",
    "        tile = self.unplaced[tile_idx]\n",
    "        area = [idx_to_loc(location, i) for i in range(4)]\n",
    "        hashes = tile.get_hashes((orientation // 4, orientation % 4))        \n",
    "        for i, a in enumerate(area):\n",
    "            tile = self.board.get(a)            \n",
    "            if tile:\n",
    "                if hashes[i] != tile.get_hashes((tile.flip, tile.rotate))[(i+2)%4]:\n",
    "                    return False\n",
    "        return True\n",
    "\n",
    "    def try_to_place(self, tile_idx, location):\n",
    "        if not (12 > location[0] >= 0) & (12 > location[1] >= 0):\n",
    "            return False\n",
    "        occupied = (new_loc in self.board.keys())\n",
    "        for orientation in range(8):\n",
    "            valid = self.check_placement(tile_idx = tile_idx, location=location, orientation = orientation)\n",
    "            if  valid and not occupied:\n",
    "                self.place(orientation = orientation, tile_idx = tile_idx, location=location)\n",
    "                return True\n",
    "        return False\n",
    "\n",
    "        \n",
    "    def place(self, tile_idx, location, orientation):\n",
    "        tile = self.unplaced.pop(tile_idx)\n",
    "        self.board[location] = tile\n",
    "        tile.set_tile((orientation // 4, orientation % 4))\n",
    "        self.placed.append(tile)\n",
    "        self.expand_frontier(location)\n",
    "        area = [idx_to_loc(location, i) for i in range(4)]\n",
    "#         for a in area:\n",
    "#             neighbor = self.board.get(a)\n",
    "#             if neighbor:\n",
    "#                 print(tile.get_hashes((tile.flip, tile.rotate)), neighbor.get_hashes((neighbor.flip, neighbor.rotate)))\n",
    "                \n",
    "        \n",
    "                      \n",
    "        \n",
    "    def expand_frontier(self, location):\n",
    "        if self.mode == 'all':\n",
    "            neighborhood = range(4)\n",
    "        elif self.mode == 'h':\n",
    "            neighborhood = [1,3]\n",
    "        elif self.mode == 'v':\n",
    "            neighborhood = [0,2]            \n",
    "        for i in neighborhood:\n",
    "            new_loc = idx_to_loc(location, i)\n",
    "            if (new_loc not in self.frontier) & (new_loc not in self.board.keys()):\n",
    "                self.frontier.append(new_loc)\n",
    "                \n",
    "    def plot(self):\n",
    "        points = np.zeros([12,12])\n",
    "        for item in self.board.keys():\n",
    "            points[item] = 1\n",
    "#         x = [p[0] for p in points]\n",
    "#         y = [p[1] for p in points]\n",
    "        plt.matshow(points)\n",
    "                    \n",
    "        \n",
    "def idx_to_loc(location, i):\n",
    "    return(location[0] + (i+1)% 2 * (-2 * ((i+1) // 2)+1), location[1] + (i% 2 * (-2 * (i // 2)+1)))\n",
    "\n"
   ]
  },
  {
   "cell_type": "code",
   "execution_count": null,
   "metadata": {},
   "outputs": [],
   "source": [
    "class tile:\n",
    "    def __init__(self, data):\n",
    "        tile_data = parse_tile(data)\n",
    "        self.id, self.tile, hashes = tile_data\n",
    "        self.hashes = np.array([hashes[0:4], hashes[4:8]])\n",
    "        self.neighbors = 0\n",
    "\n",
    "    def get_tile(self, flip, rotate):\n",
    "        tile = self.tile\n",
    "        tile = np.rot90(tile, rotate)\n",
    "        if flip:\n",
    "            tile = np.flip(tile, 0)\n",
    "        return tile.astype(int)\n",
    "        \n",
    "    def get_hashes(self, orientation):\n",
    "        flip, rotate = orientation\n",
    "        return(np.append(self.hashes[flip][rotate:], self.hashes[flip][:rotate]))\n",
    "        \n",
    "    def set_tile(self, orientation):\n",
    "        self.flip, self.rotate = orientation\n",
    "    "
   ]
  },
  {
   "cell_type": "code",
   "execution_count": null,
   "metadata": {},
   "outputs": [],
   "source": [
    "counts = np.bincount(np.array([t.hashes for t in board(data).unplaced]).reshape(-1))\n",
    "edge_hashes = set(np.where(counts == 1)[0])\n",
    "np.prod([int(t.id) for t in board(data).unplaced if len(set.intersection(edge_hashes, set(t.hashes.reshape(-1)))) == 4])\n",
    "\n"
   ]
  },
  {
   "cell_type": "code",
   "execution_count": null,
   "metadata": {},
   "outputs": [],
   "source": [
    "corners = [int(t.id) for t in board(data).unplaced if len(set.intersection(edge_hashes, set(t.hashes.reshape(-1)))) == 4]\n",
    "corners"
   ]
  },
  {
   "cell_type": "markdown",
   "metadata": {},
   "source": [
    "### Part 2"
   ]
  },
  {
   "cell_type": "code",
   "execution_count": null,
   "metadata": {},
   "outputs": [],
   "source": [
    "image = board(data)\n",
    "full_image = np.zeros([12*10,12*10])\n",
    "tileset = image.unplaced.copy()\n",
    "\n",
    "plt.imshow(full_image)\n",
    "last = [idx for idx, u in enumerate(image.unplaced) if u.id == '1543'][0]\n",
    "tile = tileset[last]\n",
    "full_image[0:10, 0:10] = tile.get_tile(0, 0)\n",
    "\n",
    "tileset.remove(tile)\n",
    "\n",
    "for col in range(1, 12):\n",
    "    for t_obj in [tileset[idx] for idx, item in enumerate(tileset)]:\n",
    "        ts = [t_obj.get_tile(flip, rotation) for rotation in range(4) for flip in range(2)]\n",
    "        for t in ts:\n",
    "            if np.all(t[:,0] == full_image[0:10,(col*10)-1]):\n",
    "                full_image[0:10,(col*10):((col*10)+10)] = t\n",
    "                tileset.remove(t_obj)\n",
    "\n",
    "\n",
    "    \n",
    "for col in range(0, 12):\n",
    "    for row in range(1, 12):\n",
    "        for t_obj in [tileset[idx] for idx, item in enumerate(tileset) for rotation in range(4) for flip in range(2)]:\n",
    "            ts = [t_obj.get_tile(flip, rotation) for rotation in range(4) for flip in range(2)]\n",
    "            for t in ts:\n",
    "                if np.all(t[0,:] == full_image[(row*10)-1,(col*10):(col*10+10)]):\n",
    "                    full_image[(row*10):(row*10+10), (col*10):(col*10+10)] = t\n",
    "                    plt.imshow(full_image)\n",
    "                    # I don't know why this is getting triggered more than once.\n",
    "                    try:\n",
    "                        tileset.remove(t_obj)\n",
    "                    except:\n",
    "                        pass\n"
   ]
  },
  {
   "cell_type": "code",
   "execution_count": null,
   "metadata": {},
   "outputs": [],
   "source": [
    "rowcols_to_drop = np.append(np.arange(0,120, 10), np.arange(9,120, 10))\n",
    "new_image = np.delete(np.delete(full_image,rowcols_to_drop, axis=1), rowcols_to_drop, axis=0)\n",
    "plt.imshow(new_image)"
   ]
  },
  {
   "cell_type": "code",
   "execution_count": null,
   "metadata": {},
   "outputs": [],
   "source": [
    "monster = \\\n",
    "'''                  # \n",
    "#    ##    ##    ###\n",
    " #  #  #  #  #  #   '''"
   ]
  },
  {
   "cell_type": "code",
   "execution_count": null,
   "metadata": {},
   "outputs": [],
   "source": [
    "monster = ([list(l) for l in monster.replace('#', '1').replace(' ', '0').split('\\n')])\n",
    "monster = np.array(monster)\n",
    "monster_mask = monster.astype('bool')"
   ]
  },
  {
   "cell_type": "code",
   "execution_count": null,
   "metadata": {},
   "outputs": [],
   "source": [
    "monster_cnt = 0\n",
    "\n",
    "for rot in np.arange(0, 4, 2):\n",
    "    for row in range(0, 93):\n",
    "        for col in range(0,76):\n",
    "            test = new_image[row:(row+3), col:(col+20)]\n",
    "            if np.all(test[np.rot90(monster_mask,rot)].astype(bool)):\n",
    "                monster_cnt += 15\n",
    "\n",
    "for rot in np.arange(1, 4, 2):\n",
    "    for row in range(0, 76):\n",
    "        for col in range(0,93):\n",
    "            test = new_image[row:(row+20), col:(col+3)]\n",
    "            if np.all(test[np.rot90(monster_mask,rot)].astype(bool)):\n",
    "                monster_cnt += 15\n",
    "                \n",
    "flip_image = np.flip(new_image, axis=1)\n",
    "for rot in np.arange(0, 4, 2):\n",
    "    for row in range(0, 93):\n",
    "        for col in range(0,76):\n",
    "            test = flip_image[row:(row+3), col:(col+20)]\n",
    "            if np.all(test[np.rot90(monster_mask,rot)].astype(bool)):\n",
    "                monster_cnt += 15\n",
    "\n",
    "for rot in np.arange(1, 4, 2):\n",
    "    for row in range(0, 76):\n",
    "        for col in range(0,93):\n",
    "            test = flip_image[row:(row+20), col:(col+3)]\n",
    "            if np.all(test[np.rot90(monster_mask,rot)].astype(bool)):\n",
    "                monster_cnt += 15"
   ]
  },
  {
   "cell_type": "code",
   "execution_count": null,
   "metadata": {},
   "outputs": [],
   "source": [
    "np.sum(new_image) - monster_cnt"
   ]
  },
  {
   "cell_type": "markdown",
   "metadata": {},
   "source": [
    "# Day 21"
   ]
  },
  {
   "cell_type": "code",
   "execution_count": null,
   "metadata": {},
   "outputs": [],
   "source": [
    "data = get_data(21, '\\n')\n",
    "# test = get_test_data(21)\n",
    "data"
   ]
  },
  {
   "cell_type": "code",
   "execution_count": null,
   "metadata": {},
   "outputs": [],
   "source": [
    "data[0]"
   ]
  },
  {
   "cell_type": "code",
   "execution_count": null,
   "metadata": {},
   "outputs": [],
   "source": [
    "import pandas as pd\n",
    "pd.set_option('display.max_rows', None) "
   ]
  },
  {
   "cell_type": "code",
   "execution_count": null,
   "metadata": {},
   "outputs": [],
   "source": [
    "allergens = [list(set(s[0].split(', '))) for s in [re.findall('\\(contains (.+)\\)', d) for d in data]]\n",
    "ingredients = [list(set(s[0].split(' '))) for s in [re.findall('(.*)\\(contains .+\\)', d) for d in data]]"
   ]
  },
  {
   "cell_type": "code",
   "execution_count": null,
   "metadata": {},
   "outputs": [],
   "source": [
    "ingredients = pd.melt(pd.DataFrame(ingredients).reset_index(), id_vars = 'index')\n",
    "ingredients = ingredients.drop('variable', 1)\n",
    "ingredients = ingredients[ingredients.value.notnull()]\n",
    "ingredients = ingredients.rename(columns = {'index':'dish'})\n",
    "ingredients = ingredients[ingredients.value != '']"
   ]
  },
  {
   "cell_type": "code",
   "execution_count": null,
   "metadata": {},
   "outputs": [],
   "source": [
    "ingredients"
   ]
  },
  {
   "cell_type": "code",
   "execution_count": null,
   "metadata": {},
   "outputs": [],
   "source": [
    "allergens = pd.melt(pd.DataFrame(allergens).reset_index(), id_vars = 'index')\n",
    "allergens = allergens.drop('variable', 1)\n",
    "allergens = allergens[allergens.value.notnull()]\n",
    "allergens = allergens.rename(columns = {'index':'dish'})\n",
    "allergens = allergens[allergens.value != '']"
   ]
  },
  {
   "cell_type": "code",
   "execution_count": null,
   "metadata": {},
   "outputs": [],
   "source": [
    "allergens"
   ]
  },
  {
   "cell_type": "code",
   "execution_count": null,
   "metadata": {},
   "outputs": [],
   "source": [
    "combined"
   ]
  },
  {
   "cell_type": "code",
   "execution_count": null,
   "metadata": {},
   "outputs": [],
   "source": [
    "combined = pd.merge(ingredients, allergens, on='dish')\n",
    "combined = combined.rename(columns = {'value_x': 'ingredient', 'value_y': 'allergen'})"
   ]
  },
  {
   "cell_type": "code",
   "execution_count": null,
   "metadata": {},
   "outputs": [],
   "source": [
    "allergen_counts = combined.groupby(['allergen', 'ingredient']).count()"
   ]
  },
  {
   "cell_type": "code",
   "execution_count": null,
   "metadata": {},
   "outputs": [],
   "source": [
    "ingredient_counts = combined.groupby('ingredient').count()[['dish']]"
   ]
  },
  {
   "cell_type": "code",
   "execution_count": null,
   "metadata": {},
   "outputs": [],
   "source": [
    "dish_allergen = ingredient_counts.join(allergen_counts, lsuffix = '_total', rsuffix = '_allergen')"
   ]
  },
  {
   "cell_type": "code",
   "execution_count": null,
   "metadata": {},
   "outputs": [],
   "source": [
    "dish_allergen['proportion'] = dish_allergen['dish_allergen'] / dish_allergen['dish_total']"
   ]
  },
  {
   "cell_type": "code",
   "execution_count": null,
   "metadata": {},
   "outputs": [],
   "source": [
    "dish_allergen"
   ]
  },
  {
   "cell_type": "code",
   "execution_count": null,
   "metadata": {},
   "outputs": [],
   "source": [
    "allergens.value.unique()"
   ]
  },
  {
   "cell_type": "code",
   "execution_count": null,
   "metadata": {},
   "outputs": [],
   "source": [
    "len(ingredients.value.unique())"
   ]
  },
  {
   "cell_type": "code",
   "execution_count": null,
   "metadata": {},
   "outputs": [],
   "source": [
    "# Rules: \n",
    "# 1. Each allergen is found in exactly one ingredient.\n",
    "# 2. Allergens are not always marked\n",
    "# Therefore: \n",
    "# IF food has allergen\n",
    "# THEN ingredient must be in food\n",
    "# \n",
    "# Process:\n",
    "# Find all foods with allergens\n",
    "# Get common ingredients"
   ]
  },
  {
   "cell_type": "code",
   "execution_count": null,
   "metadata": {},
   "outputs": [],
   "source": [
    "allergen_dishes = allergens.groupby('value').apply(lambda x: list(x['dish'])).to_dict()"
   ]
  },
  {
   "cell_type": "code",
   "execution_count": null,
   "metadata": {},
   "outputs": [],
   "source": [
    "likely_allergens = {}\n",
    "for allergen, dish in allergen_dishes.items():\n",
    "    ingredients[ingredients.dish.isin(dish)]\n",
    "    candidates = (ingredients[ingredients.dish.isin(dish)].groupby('value').count() / len(dish)).sort_values('dish', ascending = False) == 1\n",
    "    likely_allergens[allergen] = set(candidates[candidates.dish].index.to_list())\n"
   ]
  },
  {
   "cell_type": "code",
   "execution_count": null,
   "metadata": {},
   "outputs": [],
   "source": [
    "likely_allergens"
   ]
  },
  {
   "cell_type": "code",
   "execution_count": null,
   "metadata": {},
   "outputs": [],
   "source": [
    "confirmed_allergens = {}\n",
    "while len(likely_allergens) > 0:\n",
    "    k = [k for k, v in likely_allergens.items() if len(v) == 1][0]\n",
    "    print(k)\n",
    "    i = likely_allergens.pop(k)\n",
    "    print(i)\n",
    "    confirmed_allergens[k] = i\n",
    "    for k,v in likely_allergens.items():\n",
    "        likely_allergens[k] = v - i\n",
    "    \n",
    "    "
   ]
  },
  {
   "cell_type": "code",
   "execution_count": null,
   "metadata": {},
   "outputs": [],
   "source": [
    "allergens_to_remove = [l.pop() for l in confirmed_allergens.values()]"
   ]
  },
  {
   "cell_type": "code",
   "execution_count": null,
   "metadata": {},
   "outputs": [],
   "source": [
    "ingredients[~ingredients.value.isin(allergens_to_remove)].shape"
   ]
  },
  {
   "cell_type": "code",
   "execution_count": null,
   "metadata": {},
   "outputs": [],
   "source": [
    "# Part 2\n",
    "allergens_to_remove.sort()"
   ]
  },
  {
   "cell_type": "code",
   "execution_count": null,
   "metadata": {},
   "outputs": [],
   "source": [
    "','.join(allergens_to_remove)"
   ]
  },
  {
   "cell_type": "code",
   "execution_count": null,
   "metadata": {},
   "outputs": [],
   "source": [
    "','.join([confirmed_allergens[k].pop() for k in list(np.sort(list(confirmed_allergens.keys())))])"
   ]
  },
  {
   "cell_type": "code",
   "execution_count": null,
   "metadata": {},
   "outputs": [],
   "source": [
    "confirmed_allergens"
   ]
  },
  {
   "cell_type": "code",
   "execution_count": null,
   "metadata": {},
   "outputs": [],
   "source": [
    "list(np.sort(list(confirmed_allergens.keys())))"
   ]
  },
  {
   "cell_type": "code",
   "execution_count": null,
   "metadata": {},
   "outputs": [],
   "source": []
  }
 ],
 "metadata": {
  "kernelspec": {
   "display_name": "Python [conda env:datasci]",
   "language": "python",
   "name": "conda-env-datasci-py"
  },
  "language_info": {
   "codemirror_mode": {
    "name": "ipython",
    "version": 3
   },
   "file_extension": ".py",
   "mimetype": "text/x-python",
   "name": "python",
   "nbconvert_exporter": "python",
   "pygments_lexer": "ipython3",
   "version": "3.8.5"
  }
 },
 "nbformat": 4,
 "nbformat_minor": 4
}
