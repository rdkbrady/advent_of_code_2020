{
 "cells": [
  {
   "cell_type": "code",
   "execution_count": null,
   "metadata": {},
   "outputs": [],
   "source": [
    "import re\n",
    "import numpy as np\n",
    "from scripts.scrape import get_data, get_test_data\n",
    "\n"
   ]
  },
  {
   "cell_type": "markdown",
   "metadata": {},
   "source": [
    "# Day 15"
   ]
  },
  {
   "cell_type": "code",
   "execution_count": null,
   "metadata": {},
   "outputs": [],
   "source": [
    "data = get_data(15)\n",
    "test = get_test_data(15)\n",
    "data"
   ]
  },
  {
   "cell_type": "code",
   "execution_count": null,
   "metadata": {},
   "outputs": [],
   "source": [
    "data = [int(d) for d in data[0].split(',')]"
   ]
  },
  {
   "cell_type": "code",
   "execution_count": null,
   "metadata": {},
   "outputs": [],
   "source": [
    "seq = data.copy()\n",
    "\n",
    "last = {}\n",
    "for i in range(len(seq)):\n",
    "    last[seq[i]] = [i, i]\n",
    "for i in range(len(seq), 2020):\n",
    "    lookup = seq[i-1]\n",
    "    val = last[lookup][1] - last[lookup][0]\n",
    "    seq.append(val)\n",
    "    if val in last.keys():\n",
    "        last[val] = [last[val][1], i]\n",
    "    else: \n",
    "        last[val] = [i, i]        \n",
    "seq[-1]"
   ]
  },
  {
   "cell_type": "code",
   "execution_count": null,
   "metadata": {},
   "outputs": [],
   "source": []
  },
  {
   "cell_type": "code",
   "execution_count": null,
   "metadata": {},
   "outputs": [],
   "source": [
    "# Part 2\n",
    "\n",
    "seq = data.copy()\n",
    "\n",
    "last = {}\n",
    "for i in range(len(seq)):\n",
    "    last[seq[i]] = [i, i]\n",
    "for i in range(len(seq), 30000000):\n",
    "    lookup = seq[i-1]\n",
    "    val = last[lookup][1] - last[lookup][0]\n",
    "    seq.append(val)\n",
    "    if val in last.keys():\n",
    "        last[val] = [last[val][1], i]\n",
    "    else: \n",
    "        last[val] = [i, i]        \n",
    "\n",
    "seq[-1]"
   ]
  }
 ],
 "metadata": {
  "kernelspec": {
   "display_name": "Python [conda env:datasci]",
   "language": "python",
   "name": "conda-env-datasci-py"
  },
  "language_info": {
   "codemirror_mode": {
    "name": "ipython",
    "version": 3
   },
   "file_extension": ".py",
   "mimetype": "text/x-python",
   "name": "python",
   "nbconvert_exporter": "python",
   "pygments_lexer": "ipython3",
   "version": "3.8.5"
  }
 },
 "nbformat": 4,
 "nbformat_minor": 4
}
