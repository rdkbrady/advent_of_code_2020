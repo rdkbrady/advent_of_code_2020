{
 "cells": [
  {
   "cell_type": "code",
   "execution_count": null,
   "metadata": {},
   "outputs": [],
   "source": [
    "import re\n",
    "import numpy as np\n",
    "from scripts.scrape import get_data, get_test_data\n",
    "\n"
   ]
  },
  {
   "cell_type": "markdown",
   "metadata": {},
   "source": [
    "# Day 15"
   ]
  },
  {
   "cell_type": "code",
   "execution_count": null,
   "metadata": {},
   "outputs": [],
   "source": [
    "data = get_data(15)\n",
    "test = get_test_data(15)\n",
    "data"
   ]
  },
  {
   "cell_type": "code",
   "execution_count": null,
   "metadata": {},
   "outputs": [],
   "source": [
    "data = [int(d) for d in data[0].split(',')]"
   ]
  },
  {
   "cell_type": "code",
   "execution_count": null,
   "metadata": {},
   "outputs": [],
   "source": [
    "seq = data.copy()\n",
    "\n",
    "last = {}\n",
    "for i in range(len(seq)):\n",
    "    last[seq[i]] = [i, i]\n",
    "for i in range(len(seq), 2020):\n",
    "    lookup = seq[i-1]\n",
    "    val = last[lookup][1] - last[lookup][0]\n",
    "    seq.append(val)\n",
    "    if val in last.keys():\n",
    "        last[val] = [last[val][1], i]\n",
    "    else: \n",
    "        last[val] = [i, i]        \n",
    "seq[-1]"
   ]
  },
  {
   "cell_type": "code",
   "execution_count": null,
   "metadata": {},
   "outputs": [],
   "source": []
  },
  {
   "cell_type": "code",
   "execution_count": null,
   "metadata": {},
   "outputs": [],
   "source": [
    "# Part 2\n",
    "\n",
    "seq = data.copy()\n",
    "\n",
    "last = {}\n",
    "for i in range(len(seq)):\n",
    "    last[seq[i]] = [i, i]\n",
    "for i in range(len(seq), 30000000):\n",
    "    lookup = seq[i-1]\n",
    "    val = last[lookup][1] - last[lookup][0]\n",
    "    seq.append(val)\n",
    "    if val in last.keys():\n",
    "        last[val] = [last[val][1], i]\n",
    "    else: \n",
    "        last[val] = [i, i]        \n",
    "\n",
    "seq[-1]"
   ]
  },
  {
   "cell_type": "markdown",
   "metadata": {},
   "source": [
    "# Day 16"
   ]
  },
  {
   "cell_type": "code",
   "execution_count": null,
   "metadata": {},
   "outputs": [],
   "source": [
    "data = get_data(16,'\\n\\n')\n",
    "test = get_test_data(16)\n",
    "data"
   ]
  },
  {
   "cell_type": "code",
   "execution_count": null,
   "metadata": {},
   "outputs": [],
   "source": [
    "data = [d.split('\\n') for d in data]"
   ]
  },
  {
   "cell_type": "code",
   "execution_count": null,
   "metadata": {},
   "outputs": [],
   "source": [
    "validation = data[0]\n",
    "my_ticket = data[1][1:]\n",
    "nearby_tickets = data[2][1:]"
   ]
  },
  {
   "cell_type": "code",
   "execution_count": null,
   "metadata": {},
   "outputs": [],
   "source": [
    "def validate(number, validation):\n",
    "    validation_ranges = [r for v in validation for r in re.findall(\"([0-9]+)-([0-9]+)\",v)]\n",
    "#     print(validation_ranges)\n",
    "    valid = [(number >= int(v[0])) & (number <= int(v[1])) for v in validation_ranges]\n",
    "#     print(valid)\n",
    "    if np.any(valid):\n",
    "        return(0)\n",
    "    else: return(number)\n",
    "    "
   ]
  },
  {
   "cell_type": "code",
   "execution_count": null,
   "metadata": {},
   "outputs": [],
   "source": [
    "np.sum([validate(int(n), validation) for t in nearby_tickets for n in t.split(',')])"
   ]
  },
  {
   "cell_type": "markdown",
   "metadata": {},
   "source": [
    "### Part 2"
   ]
  },
  {
   "cell_type": "code",
   "execution_count": null,
   "metadata": {},
   "outputs": [],
   "source": [
    "def validate(number, validation):\n",
    "    validation_ranges = [r for v in validation for r in re.findall(\"([0-9]+)-([0-9]+)\",v)]\n",
    "    valid = [(number >= int(v[0])) & (number <= int(v[1])) for v in validation_ranges]\n",
    "    if np.any(valid):\n",
    "        return(True)\n",
    "    else: return(False)\n",
    "    "
   ]
  },
  {
   "cell_type": "code",
   "execution_count": null,
   "metadata": {},
   "outputs": [],
   "source": [
    "mask = [np.all([validate(int(n), validation) for n in t.split(',')]) for t in nearby_tickets]\n",
    "nearby_tickets = np.array([[int(n) for n in t.split(',')] for t in nearby_tickets])\n",
    "nearby_tickets = nearby_tickets[mask]\n",
    "nearby_tickets"
   ]
  },
  {
   "cell_type": "code",
   "execution_count": null,
   "metadata": {},
   "outputs": [],
   "source": [
    "def guess(number):\n",
    "    validation_ranges = [r for v in validation for r in re.findall(\"([0-9]+)-([0-9]+)\",v)]\n",
    "    valid = [(number >= int(v[0])) & (number <= int(v[1])) for v in validation_ranges]\n",
    "    return(np.array(valid)[np.arange(1, 40, 2)] + np.array(valid)[np.arange(0, 39, 2)])\n",
    "guess(337)"
   ]
  },
  {
   "cell_type": "code",
   "execution_count": null,
   "metadata": {},
   "outputs": [],
   "source": [
    "truth_values = np.apply_along_axis(guess, 1, nearby_tickets)\n",
    "logic_matrix = np.array([np.apply_along_axis(np.all, 0, truth_values[:,i,:]) for i in range(20)])\n",
    "assignment = {}\n",
    "for i in range(20):\n",
    "    row = np.where(logic_matrix.sum(1) == 1)[0][0]\n",
    "    column = np.where(logic_matrix[row, :])[0][0]\n",
    "    assignment[column] = row\n",
    "    logic_matrix[:, column] = 0\n",
    "np.prod([int(my_ticket[0].split(',')[v]) for v, k in assignment.items() if k in range(6)])    "
   ]
  },
  {
   "cell_type": "code",
   "execution_count": null,
   "metadata": {},
   "outputs": [],
   "source": [
    "def check_ticket(ticket):\n",
    "    validation_ranges = [r for v in validation for r in re.findall(\"([0-9]+)-([0-9]+)\",v)]\n",
    "    valid = [(int(validation_ranges[2*assignment[idx]][0]) <= item <=  int(validation_ranges[2*assignment[idx]][1])) + \\\n",
    "        (int(validation_ranges[2*assignment[idx] + 1][0]) <= item <=  int(validation_ranges[2*assignment[idx]+ 1][1])) for idx, item in enumerate(ticket)]\n",
    "    return(np.all(valid))\n",
    "np.all([check_ticket(t) for t in nearby_tickets])"
   ]
  },
  {
   "cell_type": "markdown",
   "metadata": {},
   "source": [
    "# Day 17"
   ]
  },
  {
   "cell_type": "code",
   "execution_count": null,
   "metadata": {},
   "outputs": [],
   "source": [
    "data = get_data(16)\n",
    "test = get_test_data(16)\n",
    "data"
   ]
  }
 ],
 "metadata": {
  "kernelspec": {
   "display_name": "Python [conda env:datasci]",
   "language": "python",
   "name": "conda-env-datasci-py"
  },
  "language_info": {
   "codemirror_mode": {
    "name": "ipython",
    "version": 3
   },
   "file_extension": ".py",
   "mimetype": "text/x-python",
   "name": "python",
   "nbconvert_exporter": "python",
   "pygments_lexer": "ipython3",
   "version": "3.8.5"
  }
 },
 "nbformat": 4,
 "nbformat_minor": 4
}
