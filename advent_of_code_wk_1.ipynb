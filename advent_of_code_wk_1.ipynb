{
 "cells": [
  {
   "cell_type": "code",
   "execution_count": null,
   "metadata": {},
   "outputs": [],
   "source": [
    "import requests\n",
    "import re\n",
    "from lxml import html\n",
    "from io import StringIO\n",
    "import numpy as np\n",
    "\n",
    "headers = {\n",
    "'authority': 'adventofcode.com',\n",
    "'cache-control': 'max-age=0',\n",
    "'upgrade-insecure-requests': '1',\n",
    "'user-agent': 'Mozilla/5.0 (Macintosh; Intel Mac OS X 10_15_7) AppleWebKit/537.36 (KHTML, like Gecko) Chrome/86.0.4240.198 Safari/537.36',\n",
    "'accept': 'text/html,application/xhtml+xml,application/xml;q=0.9,image/avif,image/webp,image/apng,*/*;q=0.8,application/signed-exchange;v=b3;q=0.9',\n",
    "'sec-fetch-site': 'same-origin',\n",
    "'sec-fetch-mode': 'navigate',\n",
    "'sec-fetch-user': '?1',\n",
    "'sec-fetch-dest': 'document',\n",
    "'referer': 'https://adventofcode.com/2020/day/2',\n",
    "'accept-language': 'en-US,en;q=0.9',\n",
    "'cookie': '_ga=GA1.2.805595945.1606803955; _gid=GA1.2.748889626.1606803955; session=53616c7465645f5f6d8cff0a87776eab1e5f75ed23e6ddaf9eb0c7fb9aab9dcb1de53c3476516643c2744ddc818805ce'\n",
    "}\n",
    "\n",
    "def get_data(day, split='\\n'):\n",
    "    r = requests.get(\"https://adventofcode.com/2020/day/{}/input\".format(day), headers = headers)\n",
    "    return r.text[:-1].split(split)\n",
    "\n",
    "def get_test_data(day, split = '\\n'):\n",
    "    r = requests.get(\"https://adventofcode.com/2020/day/{}\".format(day), headers=headers)\n",
    "    return([str(l)[:-1].split(split) for l in html.parse(StringIO(r.text)).xpath('//pre/code/text()')])"
   ]
  },
  {
   "cell_type": "markdown",
   "metadata": {},
   "source": [
    "# Day 1"
   ]
  },
  {
   "cell_type": "code",
   "execution_count": null,
   "metadata": {},
   "outputs": [],
   "source": [
    "import numpy as np"
   ]
  },
  {
   "cell_type": "code",
   "execution_count": null,
   "metadata": {},
   "outputs": [],
   "source": [
    "# Get data\n",
    "r = requests.get(\"https://adventofcode.com/2020/day/1/input\", headers = headers)\n",
    "\n",
    "# Split on linebreaks and remove empty line at end\n",
    "lines = r.text.split('\\n')[:-1]\n",
    "\n",
    "# Convert to a numpy array of ints\n",
    "nums = np.array([int(x) for x in lines])\n",
    "\n",
    "# Part 1\n",
    "# Use broadcasting to get a 200x200 of sums\n",
    "sums = nums.reshape(1, 200) + nums.reshape(200,1)\n",
    "# Get the indices of the values that add to 2020. There are 2 versions of them because this way gets both orders.\n",
    "idx = [x[0] for x in np.where(sums == 2020)]\n",
    "# Show result\n",
    "print(np.prod(nums[idx]))\n",
    "\n",
    "# Part 2\n",
    "# Use broadcasting to get a 200x200x200 of sums\n",
    "sums = nums.reshape(1, 1, 200) + nums.reshape(1, 200, 1) + nums.reshape(200, 1, 1)\n",
    "# Get the indices of the values that add to 2020. There are 6 versions of them because this way gets all orders.\n",
    "idx = [x[0] for x in np.where(sums == 2020)]\n",
    "# Show result\n",
    "print(np.prod(nums[idx]))"
   ]
  },
  {
   "cell_type": "markdown",
   "metadata": {},
   "source": [
    "# Day 2"
   ]
  },
  {
   "cell_type": "code",
   "execution_count": null,
   "metadata": {},
   "outputs": [],
   "source": [
    "r = requests.get(\"https://adventofcode.com/2020/day/2/input\", headers = headers)\n",
    "\n",
    "lines = r.text.split('\\n')[:-1]\n"
   ]
  },
  {
   "cell_type": "code",
   "execution_count": null,
   "metadata": {},
   "outputs": [],
   "source": [
    "\n",
    "def parse(line):\n",
    "    return(re.split('[-\\s:]\\s?', line))"
   ]
  },
  {
   "cell_type": "code",
   "execution_count": null,
   "metadata": {},
   "outputs": [],
   "source": [
    "[parse(l) for l in lines]"
   ]
  },
  {
   "cell_type": "code",
   "execution_count": null,
   "metadata": {},
   "outputs": [],
   "source": [
    "def check_password(min, max, char, password):\n",
    "    count = password.count(char)\n",
    "    if (count >= int(min)) & (count <= int(max)):\n",
    "        return True\n",
    "    else:\n",
    "        return False\n",
    "    \n",
    "# Use star args to pass in all 4 values from a parsed line into the function.\n",
    "sum([check_password(*parse(l)) for l in lines])    "
   ]
  },
  {
   "cell_type": "code",
   "execution_count": null,
   "metadata": {},
   "outputs": [],
   "source": [
    "def check_password_2(pos1, pos2, char, password):\n",
    "    # ^ is bitwise XOR operator (True if only one is True)\n",
    "    return (password[int(pos1)-1] == char) ^ (password[int(pos2)-1] == char)\n",
    "\n",
    "# Use star args to pass in all 4 values from a parsed line into the function.\n",
    "sum([check_password_2(*parse(l)) for l in lines])    "
   ]
  },
  {
   "cell_type": "markdown",
   "metadata": {},
   "source": [
    "# Day 3"
   ]
  },
  {
   "cell_type": "code",
   "execution_count": null,
   "metadata": {},
   "outputs": [],
   "source": [
    "r = requests.get(\"https://adventofcode.com/2020/day/3/input\", headers = headers)\n"
   ]
  },
  {
   "cell_type": "code",
   "execution_count": null,
   "metadata": {},
   "outputs": [],
   "source": [
    "r.text.split(\"\\n\")"
   ]
  },
  {
   "cell_type": "markdown",
   "metadata": {},
   "source": [
    "Want to go right 3, down 1 and count how many # I hit. Wrap around when I hit the edges."
   ]
  },
  {
   "cell_type": "code",
   "execution_count": null,
   "metadata": {},
   "outputs": [],
   "source": [
    "board = r.text.split(\"\\n\")[:-1]\n",
    "\n",
    "def toboggan(slope_row, slope_column, board):\n",
    "    row_length = len(board[0])\n",
    "    row = 0\n",
    "    column = 0\n",
    "    count = 0\n",
    "    while row < len(slope):\n",
    "        if slope[row][column] == '#':\n",
    "            count += 1\n",
    "        row += slope_row\n",
    "        column = (column + slope_column) % row_length\n",
    "    return(count)\n",
    "    \n",
    "toboggan(1, 3, board)\n",
    "\n"
   ]
  },
  {
   "cell_type": "code",
   "execution_count": null,
   "metadata": {},
   "outputs": [],
   "source": [
    "toboggan(1, 1, board) * \\\n",
    "toboggan(1, 3, board) * \\\n",
    "toboggan(1, 5, board) * \\\n",
    "toboggan(1, 7, board) * \\\n",
    "toboggan(2, 1, board)"
   ]
  },
  {
   "cell_type": "markdown",
   "metadata": {},
   "source": [
    "# Day 4"
   ]
  },
  {
   "cell_type": "code",
   "execution_count": null,
   "metadata": {},
   "outputs": [],
   "source": [
    "r = requests.get(\"https://adventofcode.com/2020/day/4/input\", headers = headers)\n",
    "\n",
    "lines = get_data(4, \"\\n\\n\")\n"
   ]
  },
  {
   "cell_type": "code",
   "execution_count": null,
   "metadata": {},
   "outputs": [],
   "source": [
    "required = [\n",
    "\"byr\",\n",
    "\"iyr\",\n",
    "\"eyr\",\n",
    "\"hgt\",\n",
    "\"hcl\",\n",
    "\"ecl\",\n",
    "\"pid\"]\n",
    "\n",
    "eyes = [\n",
    "    \"amb\", \"blu\", \"brn\", \"gry\", \"grn\", \"hzl\", \"oth\",\n",
    "]\n",
    "\n",
    "year = re.compile(\"^[0-9]{4}$\")\n",
    "height = re.compile(\"^[0-9]+[a-z]{2}$\")\n",
    "hair = re.compile(\"^#[0-9a-f]{6}$\")\n",
    "pid = re.compile(\"^[0-9]{9}$\")\n",
    "cid = re.compile(\"^[0-9]{3}$\")"
   ]
  },
  {
   "cell_type": "code",
   "execution_count": null,
   "metadata": {},
   "outputs": [],
   "source": [
    "def parse_line(line):\n",
    "    key_vals = re.split('[ \\n]', line)\n",
    "    passport = {}\n",
    "    for k_v in key_vals:\n",
    "        k, v = re.split(':', k_v)\n",
    "        passport[k] = v               \n",
    "                           \n",
    "    return(passport)\n",
    "\n",
    "        \n",
    "def val_line(line):\n",
    "    return (len(set(required) - set(parse_line(line).keys())) == 0)\n",
    "\n",
    "print(sum([val_line(l) for l in lines]))\n"
   ]
  },
  {
   "cell_type": "code",
   "execution_count": null,
   "metadata": {},
   "outputs": [],
   "source": [
    "def parse_line(line):\n",
    "    key_vals = re.split('[ \\n]', line)\n",
    "    passport = {}\n",
    "    for k_v in key_vals:\n",
    "        k, v = re.split(':', k_v)\n",
    "        if (k == 'byr') & bool(year.match(v)):\n",
    "            if (int(v) <= 2002) & (int(v) >= 1920):\n",
    "                passport[k] = v\n",
    "        if (k == 'iyr') & bool(year.match(v)):\n",
    "            if (int(v) <= 2020) & (int(v) >= 2010):\n",
    "                passport[k] = v\n",
    "        if (k == 'eyr') & bool(year.match(v)):\n",
    "            if (int(v) <= 2030) & (int(v) >= 2020):\n",
    "                passport[k] = v\n",
    "                \n",
    "        elif (k == 'hgt') & bool(height.match(v)):\n",
    "            if (v[-2:] == 'cm') & (int(v[:-2]) >= 150) & (int(v[:-2]) <= 193):\n",
    "                passport[k] = v     \n",
    "            elif (v[-2:] == 'in') & (int(v[:-2]) >= 59) & (int(v[:-2]) <= 76):\n",
    "                passport[k] = v     \n",
    "                \n",
    "        elif (k == 'ecl') & (v in eyes):\n",
    "            passport[k] = v   \n",
    "        elif (k == 'hcl') & bool(hair.match(v)):\n",
    "            passport[k] = v               \n",
    "        elif (k == 'pid') & bool(pid.match(v)):\n",
    "            passport[k] = v               \n",
    "        elif (k == 'cid') & bool(cid.match(v)):\n",
    "            passport[k] = v               \n",
    "                           \n",
    "    return(passport)\n",
    "\n",
    "        \n",
    "def val_line(line):\n",
    "    return (len(set(required) - set(parse_line(line).keys())) == 0)\n",
    "\n",
    "print(sum([val_line(l) for l in lines]))\n"
   ]
  },
  {
   "cell_type": "markdown",
   "metadata": {},
   "source": [
    "# Day 5"
   ]
  },
  {
   "cell_type": "code",
   "execution_count": null,
   "metadata": {},
   "outputs": [],
   "source": [
    "lines = get_data(5, \"\\n\")"
   ]
  },
  {
   "cell_type": "code",
   "execution_count": null,
   "metadata": {},
   "outputs": [],
   "source": [
    "lines"
   ]
  },
  {
   "cell_type": "code",
   "execution_count": null,
   "metadata": {},
   "outputs": [],
   "source": [
    "# Could have just done noe binary instead of 2 and adding them >.<\n",
    "def parse_line(line):\n",
    "    line = re.sub('F', '0', line)\n",
    "    line = re.sub('B', '1', line)\n",
    "    line = re.sub('L', '0', line)\n",
    "    line = re.sub('R', '1', line)\n",
    "    row = line[:7]\n",
    "    col = line[7:]\n",
    "    return(8 * int(row, 2) + int(col, 2))"
   ]
  },
  {
   "cell_type": "code",
   "execution_count": null,
   "metadata": {},
   "outputs": [],
   "source": [
    "max([parse_line(l)  for l in lines])"
   ]
  },
  {
   "cell_type": "code",
   "execution_count": null,
   "metadata": {},
   "outputs": [],
   "source": [
    "# Part 2\n",
    "\n",
    "seats = [parse_line(l)  for l in lines]\n",
    "seats.sort()\n",
    "\n",
    "break_idx = np.min(np.where(seats - np.arange(min(seats), max(seats)) == 1))\n",
    "seats[(break_idx-1):(break_idx+1)]"
   ]
  },
  {
   "cell_type": "markdown",
   "metadata": {},
   "source": [
    "# Day 6\n",
    "\n",
    "Actually hit the leaderboard on part 1 for this one."
   ]
  },
  {
   "cell_type": "code",
   "execution_count": null,
   "metadata": {},
   "outputs": [],
   "source": [
    "lines = get_data(6, \"\\n\\n\")\n",
    "lines"
   ]
  },
  {
   "cell_type": "code",
   "execution_count": null,
   "metadata": {},
   "outputs": [],
   "source": [
    "clean_lines = [re.sub('\\n', '', l) for l in lines]\n",
    "line_sets = [set(l) for l in clean_lines]\n",
    "set_lengths = [len(l) for l in line_sets]\n",
    "sum(set_lengths)"
   ]
  },
  {
   "cell_type": "code",
   "execution_count": null,
   "metadata": {},
   "outputs": [],
   "source": [
    "#2\n",
    "lines = get_data(6, \"\\n\\n\")\n",
    "lines\n",
    "lines = [re.split('\\n', l) for l in lines]"
   ]
  },
  {
   "cell_type": "code",
   "execution_count": null,
   "metadata": {},
   "outputs": [],
   "source": [
    "sum([len(x) for x in list(set.intersection(*[set(l) for l in line]) for line in lines)])"
   ]
  },
  {
   "cell_type": "code",
   "execution_count": null,
   "metadata": {},
   "outputs": [],
   "source": [
    "# Explained\n",
    "# Turn each set of characters into a set\n",
    "charsets = [[set(l) for l in line] for line in lines]\n",
    "# Get the intersection of each of the character sets in each line\n",
    "intersects = [set.intersection(*charset) for charset in charsets]\n",
    "# Get the number of characters for each intersect\n",
    "numchars = [len(line) for line in intersects]\n",
    "sum(numchars)\n",
    "\n"
   ]
  },
  {
   "cell_type": "markdown",
   "metadata": {},
   "source": [
    "# Day 7\n",
    "\n",
    "This one was a nightmare. Couldn't muddle through recursion and I thought for sure networkx would have a way to directly get path weights. "
   ]
  },
  {
   "cell_type": "code",
   "execution_count": null,
   "metadata": {},
   "outputs": [],
   "source": [
    "lines = get_data(7, \"\\n\")\n",
    "lines"
   ]
  },
  {
   "cell_type": "code",
   "execution_count": null,
   "metadata": {},
   "outputs": [],
   "source": [
    "import networkx as nx"
   ]
  },
  {
   "cell_type": "code",
   "execution_count": null,
   "metadata": {},
   "outputs": [],
   "source": [
    "def parse_bag(line):\n",
    "    ret = []\n",
    "    container = re.findall('(.*) bags? contain', line)\n",
    "    contained = re.findall('[0-9]+ (.*?) bags?[.]?', line)\n",
    "    for c in contained:\n",
    "        ret.append([c, container[0]])\n",
    "        \n",
    "    return(ret)\n",
    "                         "
   ]
  },
  {
   "cell_type": "code",
   "execution_count": null,
   "metadata": {},
   "outputs": [],
   "source": [
    "parsed = [parse_bag(line) for line in lines if parse_bag(line)]\n",
    "edges = [item for sublist in parsed for item in sublist]\n",
    "G = nx.DiGraph()\n",
    "G.add_edges_from(edges)"
   ]
  },
  {
   "cell_type": "code",
   "execution_count": null,
   "metadata": {},
   "outputs": [],
   "source": [
    "len(nx.algorithms.dag.descendants(G, 'shiny gold'))"
   ]
  },
  {
   "cell_type": "code",
   "execution_count": null,
   "metadata": {},
   "outputs": [],
   "source": [
    "# Part 2\n",
    "def parse_bag2(line):\n",
    "    ret = []\n",
    "    container = re.findall('(.*) bags? contain', line)\n",
    "    contained = re.findall('([0-9]+) (.*?) bags?[.]?', line)\n",
    "    for c in contained:\n",
    "        ret.append([container[0], c[1], int(c[0])])\n",
    "        \n",
    "    return(ret)\n",
    "                         "
   ]
  },
  {
   "cell_type": "code",
   "execution_count": null,
   "metadata": {},
   "outputs": [],
   "source": [
    "G = nx.DiGraph()\n",
    "parsed2 = [parse_bag2(line) for line in lines if parse_bag2(line)]\n",
    "edges = [item for sublist in parsed2 for item in sublist]\n",
    "G.add_weighted_edges_from(edges)"
   ]
  },
  {
   "cell_type": "code",
   "execution_count": null,
   "metadata": {},
   "outputs": [],
   "source": [
    "def get_contents(bag):\n",
    "    # Get all bags contained within this bag\n",
    "    descendants = nx.algorithms.dag.descendants(G, bag)\n",
    "\n",
    "    # Get all simple paths to contained bags\n",
    "    paths = [list(nx.algorithms.simple_paths.all_simple_edge_paths(G, bag, t)) for t in descendants]\n",
    "    # Get path weights\n",
    "    path_weights = [np.prod([G.get_edge_data(*edge)['weight'] for edge in path]) for inner in paths for path in inner]\n",
    "    \n",
    "    # Get sum of path weights\n",
    "    return(np.sum(path_weights))"
   ]
  },
  {
   "cell_type": "code",
   "execution_count": null,
   "metadata": {},
   "outputs": [],
   "source": [
    "get_contents('shiny gold')"
   ]
  }
 ],
 "metadata": {
  "kernelspec": {
   "display_name": "Python [conda env:datasci]",
   "language": "python",
   "name": "conda-env-datasci-py"
  },
  "language_info": {
   "codemirror_mode": {
    "name": "ipython",
    "version": 3
   },
   "file_extension": ".py",
   "mimetype": "text/x-python",
   "name": "python",
   "nbconvert_exporter": "python",
   "pygments_lexer": "ipython3",
   "version": "3.8.5"
  }
 },
 "nbformat": 4,
 "nbformat_minor": 4
}
