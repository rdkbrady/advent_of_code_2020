{
 "cells": [
  {
   "cell_type": "code",
   "execution_count": null,
   "metadata": {},
   "outputs": [],
   "source": [
    "import re\n",
    "import numpy as np\n",
    "from scripts.scrape import get_data, get_test_data\n",
    "import itertools\n",
    "from functools import reduce"
   ]
  },
  {
   "cell_type": "markdown",
   "metadata": {},
   "source": [
    "# Day 22"
   ]
  },
  {
   "cell_type": "code",
   "execution_count": null,
   "metadata": {},
   "outputs": [],
   "source": [
    "data = get_data(22, '\\n\\n')\n",
    "test = get_test_data(22)\n",
    "data"
   ]
  },
  {
   "cell_type": "code",
   "execution_count": null,
   "metadata": {},
   "outputs": [],
   "source": [
    "hands = [d.split('\\n')[1:] for d in data]\n",
    "hands[0]  = [int(i) for i in hands[0]]\n",
    "hands[1]  = [int(i) for i in hands[1]]"
   ]
  },
  {
   "cell_type": "code",
   "execution_count": null,
   "metadata": {},
   "outputs": [],
   "source": [
    "len(hands)"
   ]
  },
  {
   "cell_type": "code",
   "execution_count": null,
   "metadata": {},
   "outputs": [],
   "source": [
    "cont = True\n",
    "\n",
    "while(cont):\n",
    "    p0 = hands[0].pop(0)\n",
    "    p1 = hands[1].pop(0)    \n",
    "    if p0 > p1:\n",
    "        hands[0].append(p0)\n",
    "        hands[0].append(p1)\n",
    "    else:\n",
    "        hands[1].append(p1)\n",
    "        hands[1].append(p0)\n",
    "    \n",
    "    if (len(hands[0]) == 0) | len(hands[1]) == 0:\n",
    "        cont= False\n",
    "        \n",
    "    print (len(hands[0]), len(hands[1]))\n",
    "        "
   ]
  },
  {
   "cell_type": "code",
   "execution_count": null,
   "metadata": {},
   "outputs": [],
   "source": [
    "np.sum(np.flip(np.arange(1, 51)) * np.array(hands[0]))"
   ]
  },
  {
   "cell_type": "markdown",
   "metadata": {},
   "source": [
    "### Part 2"
   ]
  },
  {
   "cell_type": "code",
   "execution_count": null,
   "metadata": {},
   "outputs": [],
   "source": [
    "# Before either player deals a card, if there was a previous round in this game that had \n",
    "# exactly the same cards in the same order in the same players' decks, the game instantly\n",
    "# ends in a win for player 1. Previous rounds from other games are not considered.\n",
    "#\n",
    "# if state in states, p1 wins.\n",
    "\n",
    "\n",
    "# the players begin the round by each drawing the top card of their deck as normal.\n",
    "# draw = hand.pop()\n",
    "\n",
    "# If both players have at least as many cards remaining in their deck as the value of the \n",
    "# card they just drew, the winner of the round is determined by playing a new game of \n",
    "# Recursive Combat (see below).\n",
    "# if draw < len(lists) play again\n",
    "\n",
    "\n",
    "# Otherwise, at least one player must not have enough cards left in their deck to recurse; \n",
    "# the winner of the round is the player with the higher-value card.\n",
    "# else higehr wins\n",
    "\n"
   ]
  },
  {
   "cell_type": "code",
   "execution_count": null,
   "metadata": {},
   "outputs": [],
   "source": [
    "\n",
    "hands = [d.split('\\n')[1:] for d in data]\n",
    "hands[0]  = [int(i) for i in hands[0]]\n",
    "hands[1]  = [int(i) for i in hands[1]]\n"
   ]
  },
  {
   "cell_type": "code",
   "execution_count": null,
   "metadata": {},
   "outputs": [],
   "source": [
    "def round(hand_1, hand_2):\n",
    "    h1 = hand_1.copy()\n",
    "    h2 = hand_2.copy()\n",
    "    draw_1 = h1.pop(0)\n",
    "    draw_2 = h2.pop(0)\n",
    "    print('P1:', draw_1, \"P2: \", draw_2)\n",
    "    \n",
    "    if (len(h1) >= draw_1) & (len(h2) >= draw_2):\n",
    "#         print(hand_1, hand_2)\n",
    "        print ('Sub Game', level)\n",
    "        winner = game(h1, h2, level+1)\n",
    "        if winner:\n",
    "            print ('Sub Game', level ,': P1')\n",
    "        else:\n",
    "            print ('Sub Game', level,': P2')    \n",
    "        return winner\n",
    "    else:\n",
    "        if draw_1 > draw_2:\n",
    "            return(True)\n",
    "        else:\n",
    "            return(False)"
   ]
  },
  {
   "cell_type": "code",
   "execution_count": null,
   "metadata": {},
   "outputs": [],
   "source": [
    "def game(hand_1, hand_2, g):\n",
    "    cont = True\n",
    "    g = g\n",
    "    r = 1\n",
    "    states = set()\n",
    "    while(cont):\n",
    "#         print('-- Round ',r,' (Game ',g,') --')\n",
    "#         print(\"Player 1's deck: \", hand_1)\n",
    "#         print(\"Player 2's deck: \", hand_2)        \n",
    "        tup = tuple([-1] + hand_1 + [-2] + hand_2)\n",
    "        if tup in states:\n",
    "            print('memo to self')\n",
    "            return(True)\n",
    "        states.add(tup)\n",
    "\n",
    "        draw_1 = hand_1.pop(0)\n",
    "        draw_2 = hand_2.pop(0)\n",
    "#         print('Player 1 plays: ', draw_1)\n",
    "#         print('Player 2 plays: ', draw_2)\n",
    "            \n",
    "        if (len(hand_1) >= draw_1) & (len(hand_2) >= draw_2):\n",
    "    #         print(hand_1, hand_2)\n",
    "#             print('Playing a sub-game to determine the winner...')\n",
    "#             print('\\n=== Game ',g+1,' ===\\n\\n')\n",
    "            winner = game(hand_1[:draw_1].copy(), hand_2[:draw_2].copy(), g + 1)\n",
    "#             if winner:\n",
    "#                 print('\\n...anyway, back to game ',g,'.')\n",
    "#             else:\n",
    "#                 print('\\n...anyway, back to game ',g,'.')\n",
    "                \n",
    "        else:\n",
    "            winner = (draw_1 > draw_2)\n",
    "\n",
    "        if winner:\n",
    "#             print('Player 1 wins round ', r, ' of game ', g)\n",
    "#             print('\\n')\n",
    "            hand_1.append(draw_1)\n",
    "            hand_1.append(draw_2)\n",
    "        else:\n",
    "#             print('Player 1 wins round ', r, ' of game ', g)            \n",
    "#             print('\\n')\n",
    "            hand_2.append(draw_2)\n",
    "            hand_2.append(draw_1)\n",
    "\n",
    "        if (len(hand_1) == 0) | (len(hand_2) == 0):\n",
    "            cont= False\n",
    "        r += 1\n",
    "    if len(hand_1) > 0:\n",
    "#         print('The winner of game ',g,' is player 1!')\n",
    "        if g == 1:\n",
    "            return hand_1\n",
    "        else:    \n",
    "            return True\n",
    "    else: \n",
    "        if g == 1:\n",
    "            return hand_2\n",
    "        else:    \n",
    "            return False\n"
   ]
  },
  {
   "cell_type": "code",
   "execution_count": null,
   "metadata": {},
   "outputs": [],
   "source": []
  },
  {
   "cell_type": "code",
   "execution_count": null,
   "metadata": {},
   "outputs": [],
   "source": [
    "hands[0] = [9, 2, 6, 3, 1]\n",
    "hands[1] = [5, 8, 4, 7, 10]\n",
    "winning_hand = game(hands[0], hands[1], 1)\n",
    "print(winning_hand)\n",
    "np.sum(np.flip(np.arange(1, len(winning_hand) + 1)) * winning_hand)"
   ]
  },
  {
   "cell_type": "code",
   "execution_count": null,
   "metadata": {},
   "outputs": [],
   "source": [
    "\n"
   ]
  },
  {
   "cell_type": "code",
   "execution_count": null,
   "metadata": {},
   "outputs": [],
   "source": [
    "\n",
    "hands = [d.split('\\n')[1:] for d in data]\n",
    "hands[0]  = [int(i) for i in hands[0]]\n",
    "hands[1]  = [int(i) for i in hands[1]]\n",
    "winning_hand = game(hands[0], hands[1], 1)\n",
    "print(winning_hand)\n",
    "np.sum(np.flip(np.arange(1, len(winning_hand) + 1)) * winning_hand)"
   ]
  },
  {
   "cell_type": "code",
   "execution_count": null,
   "metadata": {},
   "outputs": [],
   "source": [
    "winning_hand = [27, 24, 36, 23, 32, 22, 3, 11, 50, 35, 34, 20, 48, 38, 40, 14, 28, 1, 49, 31, 26, 18, 43, 42, 16, 13, 44, 19, 30, 5, 12, 2, 47, 17, 46, 10, 45, 41, 15, 7, 33, 25, 21, 4, 8, 6, 39, 37, 29, 9]"
   ]
  },
  {
   "cell_type": "code",
   "execution_count": null,
   "metadata": {},
   "outputs": [],
   "source": [
    "np.sum(np.flip(np.arange(1, 51)) * winning_hand)"
   ]
  },
  {
   "cell_type": "markdown",
   "metadata": {},
   "source": [
    "# Day 23"
   ]
  },
  {
   "cell_type": "code",
   "execution_count": null,
   "metadata": {},
   "outputs": [],
   "source": [
    "data = get_data(23, '\\n\\n')\n",
    "test = get_test_data(23)\n",
    "data"
   ]
  },
  {
   "cell_type": "code",
   "execution_count": null,
   "metadata": {},
   "outputs": [],
   "source": [
    "def move(seq, idx, remaining):\n",
    "\n",
    "#     size = len(seq)\n",
    "    current = seq[idx]\n",
    "#     print('\\n', ' '.join([str(s) for s in seq]))\n",
    "# The crab picks up the three cups that are immediately clockwise of the current cup. \n",
    "# They are removed from the circle; \n",
    "# cup spacing is adjusted as necessary to maintain the circle.\n",
    "    picked_up = []\n",
    "    for i in range(3):\n",
    "        picked_up.append(seq.pop((np.where(np.array(seq) == current)[0][0] +1) % len(seq)))\n",
    "#     print('picked up: ', picked_up)\n",
    "\n",
    "# The crab selects a destination cup: the cup with a label equal to the current cup's label minus one. \n",
    "# If this would select one of the cups that was just picked up, \n",
    "# the crab will keep subtracting one until it finds a cup that wasn't just picked up. \n",
    "# If at any point in this process the value goes below the lowest value on any cup's label, \n",
    "# it wraps around to the highest value on any cup's label instead.\n",
    "    destination = current-1\n",
    "    while (destination not in seq):\n",
    "        destination = destination-1\n",
    "        if destination < 1:\n",
    "            destination = max(seq)\n",
    "#     print('destination : ', destination)\n",
    "# The crab places the cups it just picked up so that they are immediately clockwise of the destination cup. \n",
    "# They keep the same order as when they were picked up.\n",
    "    destination_index = np.where(np.array(seq) == destination)[0][0] + 1\n",
    "    for i in range(3):\n",
    "        seq.insert(destination_index, picked_up.pop())\n",
    "\n",
    "# The crab selects a new current cup: the cup which is immediately clockwise of the current cup.\n",
    "#     print(remaining)\n",
    "    if remaining != 1:\n",
    "        return(move(seq, (np.where(np.array(seq) == current)[0][0] +1) % max(seq), remaining-1))\n",
    "\n",
    "    else:\n",
    "#         print(seq)\n",
    "        idx = np.where(np.array(seq) == 1)[0][0]   \n",
    "        return(''.join([str(s) for s in list(np.append(np.array(seq)[idx:], np.array(seq)[:idx]))]))"
   ]
  },
  {
   "cell_type": "code",
   "execution_count": null,
   "metadata": {},
   "outputs": [],
   "source": [
    "move([int(l) for l in list(data[0])], 0, 100) "
   ]
  },
  {
   "cell_type": "markdown",
   "metadata": {},
   "source": [
    "# Part 2"
   ]
  },
  {
   "cell_type": "code",
   "execution_count": null,
   "metadata": {},
   "outputs": [],
   "source": [
    "class node:\n",
    "    # node has 1 child and 1 parent\n",
    "    def __init__(self, v):\n",
    "        self.id = v\n",
    "\n",
    "    def set_child(self, node):\n",
    "        self.child = node\n",
    "    \n",
    "    def get_child(self):\n",
    "        return self.child\n",
    "    "
   ]
  },
  {
   "cell_type": "code",
   "execution_count": null,
   "metadata": {},
   "outputs": [],
   "source": [
    "%%time\n",
    "values = list(np.append(np.array([int(l) for l in list(data[0])]), np.arange(10, 1000001)))\n",
    "# values = [int(l) for l in list('389125467')]\n",
    "lookup = {}\n",
    "maxval = max(values)\n",
    "\n",
    "for v in values:\n",
    "    lookup[v] = node(v)\n",
    "    \n",
    "for idx, v in enumerate(values):\n",
    "    lookup[values[idx]].set_child(lookup[values[(idx + 1) % len(values)]])\n",
    "\n",
    "    \n",
    "current = lookup[3]\n",
    "for i in range(10000000):\n",
    "    hand = [current.get_child()]\n",
    "    hand.append(hand[-1].get_child())\n",
    "    hand.append(hand[-1].get_child())\n",
    "    next_node = hand[-1].get_child()\n",
    "\n",
    "    dest = current.id - 1\n",
    "    while(dest == 0) | (dest in [h.id for h in hand]):\n",
    "        dest = dest-1\n",
    "        if dest < 0:\n",
    "            dest = maxval\n",
    "\n",
    "    dest_node = lookup[dest]\n",
    "    hand[-1].set_child(dest_node.get_child())\n",
    "    dest_node.set_child(hand[0])\n",
    "    current.set_child(next_node)   \n",
    "    current = current.get_child()"
   ]
  },
  {
   "cell_type": "code",
   "execution_count": null,
   "metadata": {},
   "outputs": [],
   "source": [
    "n = lookup[1]\n",
    "codes = []\n",
    "for i in range(2):\n",
    "    n = n.get_child()\n",
    "    codes.append(n.id)\n",
    "    \n",
    "print(codes)\n",
    "print(np.prod(codes))"
   ]
  },
  {
   "cell_type": "code",
   "execution_count": null,
   "metadata": {},
   "outputs": [],
   "source": [
    "values = list(np.append(np.array([int(l) for l in list(data[0])]), np.arange(10, 1000001)))\n"
   ]
  },
  {
   "cell_type": "code",
   "execution_count": null,
   "metadata": {},
   "outputs": [],
   "source": [
    "%%time\n",
    "lookup = [None] * 1000001\n",
    "maxval = max(values)\n",
    "\n",
    "for idx in range(len(values)):\n",
    "    lookup[values[idx % len(values)]] = values[(idx + 1) % len(values)]\n",
    "\n",
    "    \n",
    "current = 3\n",
    "for i in range(10000000):\n",
    "    hand = [lookup[current]]\n",
    "    hand.append(lookup[hand[-1]])\n",
    "    hand.append(lookup[hand[-1]])\n",
    "    lookup[current] = lookup[hand[-1]]\n",
    "\n",
    "    dest = current - 1\n",
    "    while(dest == 0) | (dest in hand):\n",
    "        dest = dest-1\n",
    "        if dest < 0:\n",
    "            dest = maxval\n",
    "\n",
    "    lookup[hand[-1]] = lookup[dest]\n",
    "    lookup[dest] = hand[0]\n",
    "    current = lookup[current]"
   ]
  },
  {
   "cell_type": "code",
   "execution_count": null,
   "metadata": {},
   "outputs": [],
   "source": [
    "n = 1\n",
    "codes = []\n",
    "for i in range(2):\n",
    "    n = lookup[n]\n",
    "    codes.append(n)\n",
    "    \n",
    "print(codes)\n",
    "print(np.prod(codes))"
   ]
  },
  {
   "cell_type": "markdown",
   "metadata": {},
   "source": [
    "# Day 24"
   ]
  },
  {
   "cell_type": "code",
   "execution_count": null,
   "metadata": {},
   "outputs": [],
   "source": [
    "data = get_data(24, '\\n')\n",
    "test = get_test_data(24)\n",
    "data"
   ]
  },
  {
   "cell_type": "code",
   "execution_count": null,
   "metadata": {},
   "outputs": [],
   "source": [
    "parser = re.compile('se|sw|nw|ne|(?<![ns])w|(?<![ns])e')\n",
    "directions = [parser.findall(d) for d in data]"
   ]
  },
  {
   "cell_type": "code",
   "execution_count": null,
   "metadata": {},
   "outputs": [],
   "source": [
    "def coords(directions):\n",
    "    coords = [0,0]\n",
    "    \n",
    "    for d in directions:\n",
    "        if d == 'e':\n",
    "            coords[0] += 1\n",
    "        if d == 'w':\n",
    "            coords[0] -= 1\n",
    "        if d == 'nw':\n",
    "            coords[0] -=1\n",
    "            coords[1] += 1            \n",
    "        if d == 'ne':\n",
    "            coords[1] += 1            \n",
    "        if d == 'sw':\n",
    "            coords[1] -= 1            \n",
    "        if d == 'se':\n",
    "            coords[0] += 1\n",
    "            coords[1] -= 1            \n",
    "    return(tuple(coords))\n",
    "            "
   ]
  },
  {
   "cell_type": "code",
   "execution_count": null,
   "metadata": {},
   "outputs": [],
   "source": [
    "tiles = {}\n",
    "for d in directions:\n",
    "    coord = coords(d)\n",
    "    if not tiles.get(coord):\n",
    "        tiles[coord] = 1\n",
    "    else:\n",
    "        tiles[coord] = tiles[coord] ^ 1"
   ]
  },
  {
   "cell_type": "code",
   "execution_count": null,
   "metadata": {},
   "outputs": [],
   "source": [
    "sum(tiles.values())"
   ]
  },
  {
   "cell_type": "markdown",
   "metadata": {},
   "source": [
    "### Part 2\n",
    "\n",
    "- Any black tile with zero or more than 2 black tiles immediately adjacent to it is flipped to white.\n",
    "- Any white tile with exactly 2 black tiles immediately adjacent to it is flipped to black."
   ]
  },
  {
   "cell_type": "code",
   "execution_count": null,
   "metadata": {},
   "outputs": [],
   "source": [
    "def neighbors(c, tiles):\n",
    "    neighborhood = 0\n",
    "    for i in ['w', 'e', 'sw', 'se', 'nw', 'ne']:\n",
    "        x_add, y_add = coords([i])\n",
    "        neighbor = tiles.get((c[0] + x_add, c[1] + y_add))\n",
    "        neighborhood = neighborhood+1 if neighbor else neighborhood\n",
    "    return(neighborhood)\n",
    "        \n",
    "        "
   ]
  },
  {
   "cell_type": "code",
   "execution_count": null,
   "metadata": {},
   "outputs": [],
   "source": [
    "np.max([neighbors(k,tiles) for k in tiles.keys()])"
   ]
  },
  {
   "cell_type": "code",
   "execution_count": null,
   "metadata": {},
   "outputs": [],
   "source": [
    "directions = [parser.findall(d) for d in data]\n",
    "\n",
    "tiles = {}\n",
    "for d in directions:\n",
    "    coord = coords(d)\n",
    "    if not tiles.get(coord):\n",
    "        tiles[coord] = 1\n",
    "    else:\n",
    "        tiles[coord] = tiles[coord] ^ 1\n",
    "\n",
    "for i in range(100):\n",
    "    print ('\\n round ', i)\n",
    "    x_vals = [c[0] for c in tiles.keys()]\n",
    "    y_vals = [c[1] for c in tiles.keys()]\n",
    "    xlim = min(x_vals)-1, max(x_vals)+2\n",
    "    ylim = min(y_vals)-1, max(y_vals)+2\n",
    "    next_tiles = tiles.copy()\n",
    "    for x in np.arange(*xlim):\n",
    "        for y in np.arange(*ylim):\n",
    "            n = neighbors([x,y], tiles)\n",
    "            # Any black tile with zero or more than 2 black tiles immediately adjacent to it is flipped to white.\n",
    "            if tiles.get((x,y)) == 1:\n",
    "                if ((n ==0) | (n>2)):\n",
    "                    next_tiles[(x,y)] = 0\n",
    "            # Any white tile with exactly 2 black tiles immediately adjacent to it is flipped to black.            \n",
    "            if tiles.get((x,y)) != 1:\n",
    "                if (n ==2):\n",
    "                    next_tiles[(x,y)] = 1 \n",
    "    print(sum(next_tiles.values()))\n",
    "    tiles = next_tiles.copy()"
   ]
  },
  {
   "cell_type": "code",
   "execution_count": null,
   "metadata": {},
   "outputs": [],
   "source": [
    "plt.scatter(*zip(*[k for k, v in tiles.items() if v == 1]))"
   ]
  },
  {
   "cell_type": "code",
   "execution_count": null,
   "metadata": {},
   "outputs": [],
   "source": []
  },
  {
   "cell_type": "code",
   "execution_count": null,
   "metadata": {},
   "outputs": [],
   "source": [
    "plt.scatter(*zip(*[k for k, v in next_tiles.items() if v == 1]))"
   ]
  },
  {
   "cell_type": "code",
   "execution_count": null,
   "metadata": {},
   "outputs": [],
   "source": [
    "neighbors((-0.5, -1), tiles)"
   ]
  },
  {
   "cell_type": "code",
   "execution_count": null,
   "metadata": {},
   "outputs": [],
   "source": [
    "neighbors((-1, -0.5), tiles)"
   ]
  },
  {
   "cell_type": "markdown",
   "metadata": {},
   "source": [
    "# Day 25"
   ]
  },
  {
   "cell_type": "code",
   "execution_count": null,
   "metadata": {},
   "outputs": [],
   "source": [
    "data = get_data(25, '\\n')\n",
    "test = get_test_data(25)\n",
    "data"
   ]
  },
  {
   "cell_type": "code",
   "execution_count": null,
   "metadata": {},
   "outputs": [],
   "source": [
    "# The card always uses a specific, secret loop size when it transforms a subject number. \n",
    "# The door always uses a different, secret loop size.\n",
    "\n",
    "# {card's public key.} The card transforms the subject number of 7 according to the card's secret loop size. \n",
    "# {door's public key.} The door transforms the subject number of 7 according to the door's secret loop size. \n",
    "# The card and door use the wireless RFID signal to transmit the two public keys (your puzzle input) to the other device. \n",
    "# Now, the card has the door's public key, and the door has the card's public key. \n",
    "# Because you can eavesdrop on the signal, you have both public keys, but neither device's loop size.\n",
    "\n",
    "# [encryption key} The card transforms the subject number of the door's public key according to the card's loop size. The result is the .\n",
    "# The door transforms the subject number of the card's public key according to the door's loop size. The result is the same encryption key as the card calculated.\n",
    "\n",
    "card_pub, door_pub = [int(x) for x in data]\n",
    "\n",
    "# Then, a number of times called the loop size, perform the following steps:\n",
    "# start with the value 1. \n",
    "val = 1\n",
    "subject_number = 7\n",
    "\n",
    "pubkey = {}\n",
    "i = 0\n",
    "while not ((pubkey.get(card_pub)) and (pubkey.get(door_pub))):\n",
    "    i += 1    \n",
    "    val *= subject_number\n",
    "    val = val % 20201227\n",
    "    pubkey[val] = i\n",
    "\n"
   ]
  },
  {
   "cell_type": "code",
   "execution_count": null,
   "metadata": {},
   "outputs": [],
   "source": [
    "pubkey[card_pub]"
   ]
  },
  {
   "cell_type": "code",
   "execution_count": null,
   "metadata": {},
   "outputs": [],
   "source": [
    "pubkey[door_pub]"
   ]
  },
  {
   "cell_type": "code",
   "execution_count": null,
   "metadata": {},
   "outputs": [],
   "source": [
    "val = 1\n",
    "for i in range(pubkey[card_pub]):\n",
    "    val *= door_pub\n",
    "    val = val % 20201227\n",
    "val    "
   ]
  },
  {
   "cell_type": "code",
   "execution_count": null,
   "metadata": {},
   "outputs": [],
   "source": [
    "val = 1\n",
    "for i in range(pubkey[door_pub]):\n",
    "    val *= card_pub\n",
    "    val = val % 20201227\n",
    "val"
   ]
  },
  {
   "cell_type": "code",
   "execution_count": null,
   "metadata": {},
   "outputs": [],
   "source": []
  }
 ],
 "metadata": {
  "kernelspec": {
   "display_name": "Python [conda env:datasci]",
   "language": "python",
   "name": "conda-env-datasci-py"
  },
  "language_info": {
   "codemirror_mode": {
    "name": "ipython",
    "version": 3
   },
   "file_extension": ".py",
   "mimetype": "text/x-python",
   "name": "python",
   "nbconvert_exporter": "python",
   "pygments_lexer": "ipython3",
   "version": "3.8.5"
  }
 },
 "nbformat": 4,
 "nbformat_minor": 4
}
