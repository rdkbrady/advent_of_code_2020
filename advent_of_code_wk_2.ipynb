{
 "cells": [
  {
   "cell_type": "code",
   "execution_count": null,
   "metadata": {},
   "outputs": [],
   "source": [
    "import re\n",
    "import numpy as np\n",
    "from scripts.scrape import get_data, get_test_data\n",
    "\n"
   ]
  },
  {
   "cell_type": "markdown",
   "metadata": {},
   "source": [
    "# Day 8"
   ]
  },
  {
   "cell_type": "code",
   "execution_count": null,
   "metadata": {},
   "outputs": [],
   "source": [
    "data = get_data(8)\n",
    "test = get_test_data(8)\n",
    "data"
   ]
  },
  {
   "cell_type": "code",
   "execution_count": null,
   "metadata": {},
   "outputs": [],
   "source": [
    "def run_data(data):\n",
    "    visited = np.zeros(len(data))\n",
    "    accumulator = 0\n",
    "    idx = 0\n",
    "    while(visited[idx] == 0):\n",
    "        visited[idx] = 1\n",
    "        instruction, value = re.split(' ', data[idx])\n",
    "        value = int(value)\n",
    "        if instruction == 'acc':\n",
    "            accumulator += value\n",
    "            idx += 1\n",
    "        elif instruction == 'jmp':\n",
    "            idx += value\n",
    "        else:\n",
    "            idx +=1\n",
    "        if idx == len(data) - 1:\n",
    "            print('finished')\n",
    "            print(accumulator)\n",
    "            return(None)\n",
    "    return(accumulator)\n",
    "    "
   ]
  },
  {
   "cell_type": "code",
   "execution_count": null,
   "metadata": {},
   "outputs": [],
   "source": [
    "run_data(data)"
   ]
  },
  {
   "cell_type": "code",
   "execution_count": null,
   "metadata": {},
   "outputs": [],
   "source": [
    "for idx in range(len(data)):\n",
    "    instruction, value = re.match('([a-z]{3}) \\+?(-?[0-9]+)', data[idx]).groups()\n",
    "    new_data = data.copy()\n",
    "    if instruction == 'jmp':\n",
    "        new_data[idx] = 'nop {}'.format(value)\n",
    "    elif instruction == 'nop':\n",
    "        new_data[idx] = 'jmp {}'.format(value)\n",
    "    elif instruction == 'acc':\n",
    "        next\n",
    "    cont = run_data(new_data)\n",
    "    if(not cont):\n",
    "        break"
   ]
  },
  {
   "cell_type": "markdown",
   "metadata": {},
   "source": [
    "# Day 9"
   ]
  },
  {
   "cell_type": "code",
   "execution_count": null,
   "metadata": {},
   "outputs": [],
   "source": [
    "data = get_data(9)\n",
    "test = get_test_data(9)\n",
    "data"
   ]
  },
  {
   "cell_type": "code",
   "execution_count": null,
   "metadata": {},
   "outputs": [],
   "source": [
    "for i in range(25, 1000):\n",
    "    matrix = nums[(i-25):i].reshape(1, 25) + nums[(i-25):i].reshape(25, 1)\n",
    "    if(nums[i] not in matrix):\n",
    "        print(nums[i])\n",
    "        break\n",
    "        \n",
    "    "
   ]
  },
  {
   "cell_type": "code",
   "execution_count": null,
   "metadata": {},
   "outputs": [],
   "source": [
    "def break_code(n, nums):\n",
    "    for i in range(len(nums)):\n",
    "        min_idx = i\n",
    "        minimum = nums[i]\n",
    "        s = 0\n",
    "        while(s < n):\n",
    "            s+= nums[i]\n",
    "            i += 1\n",
    "            if s == n:\n",
    "                return(min(nums[min_idx:i]), max(nums[min_idx:i]))\n"
   ]
  },
  {
   "cell_type": "code",
   "execution_count": null,
   "metadata": {},
   "outputs": [],
   "source": [
    "sum(break_code(675280050, nums))"
   ]
  },
  {
   "cell_type": "markdown",
   "metadata": {},
   "source": [
    "# Day 10"
   ]
  },
  {
   "cell_type": "code",
   "execution_count": null,
   "metadata": {},
   "outputs": [],
   "source": [
    "data = get_data(10)\n",
    "test = get_test_data(10)\n",
    "data"
   ]
  },
  {
   "cell_type": "code",
   "execution_count": null,
   "metadata": {},
   "outputs": [],
   "source": [
    "data = [int(d) for d in data]\n",
    "data.append(max(data) + 3)\n",
    "data.append(0)\n",
    "data.sort()\n",
    "print(sum(np.diff(data) == 1), (sum(np.diff(data) == 3)))"
   ]
  },
  {
   "cell_type": "code",
   "execution_count": null,
   "metadata": {},
   "outputs": [],
   "source": [
    "sum(np.diff(data) == 1) * (sum(np.diff(data) == 3))"
   ]
  },
  {
   "cell_type": "markdown",
   "metadata": {},
   "source": [
    "### Part 2"
   ]
  },
  {
   "cell_type": "code",
   "execution_count": null,
   "metadata": {},
   "outputs": [],
   "source": [
    "transitions = np.diff(data)"
   ]
  },
  {
   "cell_type": "code",
   "execution_count": null,
   "metadata": {},
   "outputs": [],
   "source": [
    "runs = []\n",
    "i = 0\n",
    "run = 1\n",
    "while(i < len(transitions)):\n",
    "\n",
    "    if transitions[i] == 1:\n",
    "        run +=1\n",
    "    else:\n",
    "        runs.append(run)\n",
    "        run = 1\n",
    "    i +=1\n"
   ]
  },
  {
   "cell_type": "code",
   "execution_count": null,
   "metadata": {},
   "outputs": [],
   "source": [
    "min(runs), max(runs)"
   ]
  },
  {
   "cell_type": "markdown",
   "metadata": {},
   "source": [
    "### There is a max runs of 5. \n",
    "\n",
    "A run is a set of 1-jump transitions in a row. The number of permutations for a row is a Tribonacci sequence. WHICH I DID NOT KNOW UNTIL AFTER I FINISHED. \n",
    "\n",
    "1:\n",
    "- 1\n",
    "\n",
    "2:\n",
    "- 1 2\n",
    "\n",
    "3:\n",
    "- 1 2 3\n",
    "- 1 3\n",
    "\n",
    "4: \n",
    "- 1 2 3 4\n",
    "- 1 3 4\n",
    "- 1 2 4\n",
    "- 1 4\n",
    "\n",
    "5:\n",
    "- 1 2 3 4 5\n",
    "- 1 3 4 5\n",
    "- 1 2 4 5\n",
    "- 1 4 5\n",
    "- 1 2 3 5\n",
    "- 1 3 5\n",
    "- 1 2 5\n"
   ]
  },
  {
   "cell_type": "code",
   "execution_count": null,
   "metadata": {},
   "outputs": [],
   "source": [
    "mapping = {1:1,\n",
    "          2:1,\n",
    "          3:2,\n",
    "          4:4,\n",
    "          5:7}\n"
   ]
  },
  {
   "cell_type": "code",
   "execution_count": null,
   "metadata": {},
   "outputs": [],
   "source": [
    "np.prod([mapping[r] for r in runs])"
   ]
  },
  {
   "cell_type": "markdown",
   "metadata": {},
   "source": [
    "# Day 11\n",
    "\n",
    "This one was so frustrating for me. I recognized as a version of Conway's Game of Life, but the example says: \n",
    "\n",
    "    At this point, something interesting happens: the chaos stabilizes and further applications of these rules cause no seats to change state!\n",
    "    \n",
    "And I interpreted this to mean \"after 5 applications, the system stabilizes and rules don't apply\". So I ran mine for 5 iterations instead of \"to stability\" and I couldn't figure out why it wasn't giving me the right answer. Ended up reading the question over and over like 60 times before I realized I had misinterpreted it. I'm not sure how I improve such that I understand the question correctly, especially since my code worked on the test case."
   ]
  },
  {
   "cell_type": "code",
   "execution_count": null,
   "metadata": {},
   "outputs": [],
   "source": [
    "data = get_data(11)\n",
    "test = get_test_data(11)\n",
    "data"
   ]
  },
  {
   "cell_type": "code",
   "execution_count": null,
   "metadata": {},
   "outputs": [],
   "source": [
    "def get_instruction(x, y, data):\n",
    "    padded_data = np.pad(data, mode='constant', pad_width=1)    \n",
    "    sub = padded_data[x:x+3, y:y+3]\n",
    "    sub[1,1] = 0\n",
    "    \n",
    "    this_seat = data[x,y]\n",
    "    occupied_neighbors = np.sum(sub == '#')\n",
    "    \n",
    "    # Fill if empty:\n",
    "    if (occupied_neighbors == 0) & (this_seat == 'L'):\n",
    "        return 'sit'\n",
    "    if (occupied_neighbors >= 4) & (this_seat == '#'):\n",
    "        return 'leave'\n",
    "    else: \n",
    "        return -1"
   ]
  },
  {
   "cell_type": "code",
   "execution_count": null,
   "metadata": {},
   "outputs": [],
   "source": [
    "data = np.array([list(d) for d in get_data(11)])\n",
    "starting_empties = np.where(data=='.')\n",
    "instruction = np.empty([data.shape[0], data.shape[1]]).astype(str)\n",
    "\n",
    "print(np.sum(data == '.'), np.sum(data == '#'), np.sum(data == 'L'))\n",
    "last = data.copy()\n",
    "\n",
    "while(True):\n",
    "    for i in range(0, data.shape[0]):\n",
    "        for j in range(0,  data.shape[1]):\n",
    "            instruction[i, j] = get_instruction(i, j,  data)\n",
    "    data[instruction == 'sit'] = '#'\n",
    "    data[instruction == 'leave'] = 'L'\n",
    "    print(np.sum(data == '.'), np.sum(data == '#'), np.sum(data == 'L'))\n",
    "    if (last == data).all():\n",
    "        break\n",
    "    last = data.copy()"
   ]
  },
  {
   "cell_type": "code",
   "execution_count": null,
   "metadata": {},
   "outputs": [],
   "source": [
    "def get_seat(x, y, dir_x, dir_y, data):\n",
    "    i = 1\n",
    "    while(True):\n",
    "        target_x = x + dir_x * i\n",
    "        target_y = y + dir_y * i\n",
    "        if (target_x < 0) | (target_x >= data.shape[0]) | (target_y < 0) | (target_y >= data.shape[1]):\n",
    "            return '.'\n",
    "        elif (data[target_x, target_y] != '.'):\n",
    "            return data[target_x, target_y]\n",
    "        else:\n",
    "            i+=1\n",
    "        \n",
    "def get_instruction_2(x, y, data):\n",
    "\n",
    "    sub = np.empty([3,3]).astype('str')\n",
    "    \n",
    "    for i in np.arange(-1,2):\n",
    "        for j in np.arange(-1,2):\n",
    "            if not ((i==0) & (j==0)):\n",
    "                sub[i+1,j+1] = get_seat(x,y,i,j,data)\n",
    "    \n",
    "    this_seat = data[x,y]\n",
    "    occupied_neighbors = np.sum(sub == '#')\n",
    "    \n",
    "    # Fill if empty:\n",
    "    if (occupied_neighbors == 0) & (this_seat == 'L'):\n",
    "        return 'sit'\n",
    "    if (occupied_neighbors >= 5) & (this_seat == '#'):\n",
    "        return 'leave'\n",
    "    else: \n",
    "        return -1"
   ]
  },
  {
   "cell_type": "code",
   "execution_count": null,
   "metadata": {},
   "outputs": [],
   "source": [
    "data = np.array([list(d) for d in get_data(11)])\n",
    "starting_empties = np.where(data=='.')\n",
    "instruction = np.empty([data.shape[0], data.shape[1]]).astype(str)\n",
    "\n",
    "print(np.sum(data == '.'), np.sum(data == '#'), np.sum(data == 'L'))\n",
    "last = data.copy()\n",
    "\n",
    "while(True):\n",
    "    for i in range(0, data.shape[0]):\n",
    "        for j in range(0,  data.shape[1]):\n",
    "            instruction[i, j] = get_instruction_2(i, j,  data)\n",
    "    data[instruction == 'sit'] = '#'\n",
    "    data[instruction == 'leave'] = 'L'\n",
    "    print(np.sum(data == '.'), np.sum(data == '#'), np.sum(data == 'L'))\n",
    "    if (last == data).all():\n",
    "        break\n",
    "    last = data.copy()"
   ]
  },
  {
   "cell_type": "markdown",
   "metadata": {},
   "source": [
    "# Day 12"
   ]
  },
  {
   "cell_type": "code",
   "execution_count": null,
   "metadata": {},
   "outputs": [],
   "source": [
    "data = get_data(12)\n",
    "test = get_test_data(12)\n",
    "data"
   ]
  },
  {
   "cell_type": "code",
   "execution_count": null,
   "metadata": {},
   "outputs": [],
   "source": [
    "def process(data, bearing):\n",
    "    instruction, value = re.findall('([A-Z])([0-9]+)', data)[0]\n",
    "    value = int(value)\n",
    "    if instruction == 'W':\n",
    "        return([-value, 0, 0])\n",
    "    elif instruction == 'E':\n",
    "        return([value, 0, 0])\n",
    "    elif instruction == 'N':\n",
    "        return([0, value, 0])\n",
    "    elif instruction == 'S':\n",
    "        return([0, -value, 0])\n",
    "    elif instruction == 'F':\n",
    "        return([value * np.cos(bearing * np.pi/180), value *np.sin(bearing * np.pi/180), 0])\n",
    "    elif instruction == 'L':    \n",
    "        return([0, 0, value])\n",
    "    elif instruction == 'R':\n",
    "        return([0, 0, -value])  \n",
    "\n"
   ]
  },
  {
   "cell_type": "code",
   "execution_count": null,
   "metadata": {},
   "outputs": [],
   "source": [
    "loc = np.array([0,0,0]).astype('float64')\n",
    "for d in data:\n",
    "    loc += np.array(process(d, loc[2]))\n",
    "    \n"
   ]
  },
  {
   "cell_type": "code",
   "execution_count": null,
   "metadata": {},
   "outputs": [],
   "source": [
    "np.abs(loc[0]) + np.abs(loc[1])"
   ]
  },
  {
   "cell_type": "code",
   "execution_count": null,
   "metadata": {},
   "outputs": [],
   "source": [
    "def process_2(data, waypoint, coords):\n",
    "    instruction, value = re.findall('([A-Z])([0-9]+)', data)[0]\n",
    "    value = int(value)\n",
    "    radians = value * np.pi/180    \n",
    "    if instruction == 'W':\n",
    "        return(waypoint + [-value, 0], coords)\n",
    "    elif instruction == 'E':\n",
    "        return(waypoint + [value, 0], coords)\n",
    "    elif instruction == 'N':\n",
    "        return(waypoint + [0, value], coords)\n",
    "    elif instruction == 'S':\n",
    "        return(waypoint + [0, -value], coords)\n",
    "    elif instruction == 'F':\n",
    "        return(waypoint, coords + value * waypoint)\n",
    "    elif instruction == 'L': \n",
    "        transformed = (np.array(((np.cos(radians), -np.sin(radians)), (np.sin(radians), np.cos(radians)))) @ waypoint)\n",
    "        return(transformed, coords)\n",
    "    elif instruction == 'R':\n",
    "        transformed = (np.array(((np.cos(-radians), -np.sin(-radians)), (np.sin(-radians), np.cos(-radians)))) @ waypoint)\n",
    "        return(transformed, coords)\n",
    "\n"
   ]
  },
  {
   "cell_type": "code",
   "execution_count": null,
   "metadata": {},
   "outputs": [],
   "source": [
    "waypoint = np.array([10,1]).astype('float64')\n",
    "coords = np.array([0,0]).astype('float64')\n",
    "for d in data:\n",
    "    print(waypoint, coords)\n",
    "    waypoint, coords = np.array(process_2(d, waypoint, coords))\n"
   ]
  },
  {
   "cell_type": "code",
   "execution_count": null,
   "metadata": {},
   "outputs": [],
   "source": [
    "np.sum(np.abs(coords))\n"
   ]
  },
  {
   "cell_type": "markdown",
   "metadata": {},
   "source": [
    "# Lucky Day 13\n",
    "\n",
    "Need to go back and learn how to solve the equation myself instead of relying on the package"
   ]
  },
  {
   "cell_type": "code",
   "execution_count": null,
   "metadata": {},
   "outputs": [],
   "source": [
    "data = get_data(13)\n",
    "test = get_test_data(13)\n",
    "data"
   ]
  },
  {
   "cell_type": "code",
   "execution_count": null,
   "metadata": {},
   "outputs": [],
   "source": [
    "timestamp = int(data[0])"
   ]
  },
  {
   "cell_type": "code",
   "execution_count": null,
   "metadata": {},
   "outputs": [],
   "source": [
    "buses = data[1]\n",
    "buses = [int(b) for b in re.split('[,]', buses) if b != 'x']\n",
    "buses"
   ]
  },
  {
   "cell_type": "code",
   "execution_count": null,
   "metadata": {},
   "outputs": [],
   "source": [
    "arrival_times = [(1 + timestamp // b) * b for b in buses]\n",
    "best_bus = np.argmin(arrival_times)"
   ]
  },
  {
   "cell_type": "code",
   "execution_count": null,
   "metadata": {},
   "outputs": [],
   "source": [
    "(arrival_times[best_bus] - timestamp) * buses[best_bus]"
   ]
  },
  {
   "cell_type": "markdown",
   "metadata": {},
   "source": [
    "###  Part2"
   ]
  },
  {
   "cell_type": "code",
   "execution_count": null,
   "metadata": {},
   "outputs": [],
   "source": [
    "constraints = data[1].split(',')"
   ]
  },
  {
   "cell_type": "code",
   "execution_count": null,
   "metadata": {},
   "outputs": [],
   "source": [
    "constraints_mapping = dict(zip([idx for idx, item in enumerate(constraints) if item != 'x'], \\\n",
    "                              [int(item) for idx, item in enumerate(constraints) if item != 'x']))"
   ]
  },
  {
   "cell_type": "code",
   "execution_count": null,
   "metadata": {},
   "outputs": [],
   "source": [
    "constraints_mapping"
   ]
  },
  {
   "cell_type": "markdown",
   "metadata": {},
   "source": [
    "x[0] * value + (value-key) = t\n"
   ]
  },
  {
   "cell_type": "code",
   "execution_count": null,
   "metadata": {},
   "outputs": [],
   "source": [
    "from sympy import Matrix\n",
    "from diophantine import solve"
   ]
  },
  {
   "cell_type": "code",
   "execution_count": null,
   "metadata": {},
   "outputs": [],
   "source": [
    "mat = np.diag(list(constraints_mapping.values()))\n",
    "mat_new = np.zeros((mat.shape[0], mat.shape[1]+1))\n",
    "mat_new[:mat.shape[0], :mat.shape[0]] = mat\n",
    "mat_new[:,-1:] = -1\n",
    "\n",
    "dioph = Matrix(mat_new)\n",
    "\n",
    "# targets= Matrix([(-key) % value for key,value in constraints_mapping.items()])\n",
    "tar = [(key) for key,value in constraints_mapping.items()]\n",
    "targets= Matrix(tar)"
   ]
  },
  {
   "cell_type": "code",
   "execution_count": null,
   "metadata": {},
   "outputs": [],
   "source": [
    "dioph"
   ]
  },
  {
   "cell_type": "code",
   "execution_count": null,
   "metadata": {},
   "outputs": [],
   "source": [
    "targets"
   ]
  },
  {
   "cell_type": "code",
   "execution_count": null,
   "metadata": {},
   "outputs": [],
   "source": [
    "list(solve(dioph, targets)[0])"
   ]
  },
  {
   "cell_type": "markdown",
   "metadata": {},
   "source": [
    "The last one is the solution for the timestamp. This is negative, which is useful. We can generate infinitely many solutions by adding a multiple of the product of the other coefficients (bus numbers) divided by their gcd (1, because they are all prime)"
   ]
  },
  {
   "cell_type": "code",
   "execution_count": null,
   "metadata": {},
   "outputs": [],
   "source": [
    "np.prod(list(constraints_mapping.values())) - 346706995564810"
   ]
  },
  {
   "cell_type": "code",
   "execution_count": null,
   "metadata": {},
   "outputs": [],
   "source": [
    "ts = 402251700208309\n",
    "(ts + np.array(list(constraints_mapping.keys()))) % np.array(list(constraints_mapping.values()))"
   ]
  },
  {
   "cell_type": "code",
   "execution_count": null,
   "metadata": {},
   "outputs": [],
   "source": [
    "# After sleeping. This is way better.\n",
    "constraints_mapping = [[idx, int(item)] for idx, item in enumerate(constraints) if item != 'x']\n",
    "\n",
    "def integer_solutions(bus_1, bus_2):\n",
    "    offset = bus_1[0]\n",
    "    increment = bus_1[1]\n",
    "    delay = bus_2[0]\n",
    "    mod_value = bus_2[1]\n",
    "    while((offset + delay) % mod_value != 0):\n",
    "        offset += increment\n",
    "    return(offset, increment * mod_value)\n",
    "    \n",
    "reduce(integer_solutions, constraints_mapping)\n",
    "    "
   ]
  },
  {
   "cell_type": "markdown",
   "metadata": {},
   "source": [
    "# Day 14"
   ]
  },
  {
   "cell_type": "code",
   "execution_count": null,
   "metadata": {},
   "outputs": [],
   "source": [
    "data = get_data(14)\n",
    "test = get_test_data(14)\n",
    "data"
   ]
  },
  {
   "cell_type": "code",
   "execution_count": null,
   "metadata": {},
   "outputs": [],
   "source": [
    "memory = {}\n",
    "for item in data:\n",
    "    instruction, value = re.split(' = ', item)\n",
    "    if instruction == 'mask':\n",
    "        mask_1 = np.where(np.array(list(value)) == '1')\n",
    "        mask_0 = np.where(np.array(list(value)) == '0')\n",
    "    else:\n",
    "        idx = re.findall('([0-9]+)', instruction)[0]\n",
    "        bin_number = bin(int(value))[2:]\n",
    "        bin_number = (36 - len(bin_number))*'0' + bin_number\n",
    "        bin_number = np.array(list(bin_number)).astype(int)\n",
    "        bin_number[mask_1] = 1\n",
    "        bin_number[mask_0] = 0\n",
    "        memory[idx] = int(''.join(bin_number.astype(str)), 2)\n",
    "        \n",
    "        \n",
    "        \n"
   ]
  },
  {
   "cell_type": "code",
   "execution_count": null,
   "metadata": {},
   "outputs": [],
   "source": [
    "np.sum(list(memory.values()))"
   ]
  },
  {
   "cell_type": "markdown",
   "metadata": {},
   "source": [
    "### Part 2"
   ]
  },
  {
   "cell_type": "code",
   "execution_count": null,
   "metadata": {},
   "outputs": [],
   "source": [
    "test_mask = re.split(' = ', data[0])[1]"
   ]
  },
  {
   "cell_type": "code",
   "execution_count": null,
   "metadata": {},
   "outputs": [],
   "source": [
    "from itertools import combinations"
   ]
  },
  {
   "cell_type": "code",
   "execution_count": null,
   "metadata": {},
   "outputs": [],
   "source": [
    "memory = {}\n",
    "for item in data:\n",
    "    instruction, value = re.split(' = ', item)\n",
    "    if instruction == 'mask':\n",
    "        mask_1 = np.where(np.array(list(value)) == '1')[0]\n",
    "        mask_X = np.where(np.array(list(value)) == 'X')[0]        \n",
    "    else:\n",
    "        idx = re.findall('([0-9]+)', instruction)[0]\n",
    "        bin_number = bin(int(idx))[2:]\n",
    "        bin_number = (36 - len(bin_number))*'0' + bin_number\n",
    "        bin_number = np.array(list(bin_number)).astype(int)\n",
    "        \n",
    "        bin_number[mask_1] = 1\n",
    "        \n",
    "        for r in range(len(mask_X)+1):\n",
    "            for c in combinations(mask_X, r):\n",
    "                ones = list(c)\n",
    "                zeros = list(set(mask_X) - set(list(c)))\n",
    "                bin_number[ones] = 1\n",
    "                bin_number[zeros] = 0\n",
    "                memory[int(''.join(bin_number.astype(str)), 2)] = int(value)"
   ]
  },
  {
   "cell_type": "code",
   "execution_count": null,
   "metadata": {},
   "outputs": [],
   "source": [
    "np.sum(list(memory.values()))"
   ]
  },
  {
   "cell_type": "markdown",
   "metadata": {},
   "source": [
    "### Part 1 Redux\n",
    "\n",
    "Forgot about bitwise operations\n"
   ]
  },
  {
   "cell_type": "code",
   "execution_count": null,
   "metadata": {},
   "outputs": [],
   "source": [
    "memory_2 = {}\n",
    "for item in data:\n",
    "    instruction, value = re.split(' = ', item)\n",
    "    if instruction == 'mask':\n",
    "        mask_1 = int(re.sub('X', '0', value), 2)\n",
    "        mask_0 = int(re.sub('X', '1', value), 2)\n",
    "    else:\n",
    "        idx = re.findall('([0-9]+)', instruction)[0]\n",
    "        memory_2[idx] = (int(value) | mask_1) & mask_0\n",
    "        \n",
    "print(np.sum(list(memory.values())))\n",
    "print(np.sum(list(memory_2.values()))) \n",
    "        \n"
   ]
  }
 ],
 "metadata": {
  "kernelspec": {
   "display_name": "Python [conda env:datasci]",
   "language": "python",
   "name": "conda-env-datasci-py"
  },
  "language_info": {
   "codemirror_mode": {
    "name": "ipython",
    "version": 3
   },
   "file_extension": ".py",
   "mimetype": "text/x-python",
   "name": "python",
   "nbconvert_exporter": "python",
   "pygments_lexer": "ipython3",
   "version": "3.8.5"
  }
 },
 "nbformat": 4,
 "nbformat_minor": 4
}
