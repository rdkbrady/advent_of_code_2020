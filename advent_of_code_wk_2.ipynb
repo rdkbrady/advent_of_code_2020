{
 "cells": [
  {
   "cell_type": "code",
   "execution_count": null,
   "metadata": {},
   "outputs": [],
   "source": [
    "import re\n",
    "import numpy as np\n",
    "from scripts.scrape import get_data, get_test_data\n",
    "\n"
   ]
  },
  {
   "cell_type": "markdown",
   "metadata": {},
   "source": [
    "# Day 8"
   ]
  },
  {
   "cell_type": "code",
   "execution_count": null,
   "metadata": {},
   "outputs": [],
   "source": [
    "data = get_data(8)\n",
    "test = get_test_data(8)\n",
    "data"
   ]
  },
  {
   "cell_type": "code",
   "execution_count": null,
   "metadata": {},
   "outputs": [],
   "source": [
    "def run_data(data):\n",
    "    visited = np.zeros(len(data))\n",
    "    accumulator = 0\n",
    "    idx = 0\n",
    "    while(visited[idx] == 0):\n",
    "        visited[idx] = 1\n",
    "        instruction, value = re.split(' ', data[idx])\n",
    "        value = int(value)\n",
    "        if instruction == 'acc':\n",
    "            accumulator += value\n",
    "            idx += 1\n",
    "        elif instruction == 'jmp':\n",
    "            idx += value\n",
    "        else:\n",
    "            idx +=1\n",
    "        if idx == len(data) - 1:\n",
    "            print('finished')\n",
    "            print(accumulator)\n",
    "            return(None)\n",
    "    return(accumulator)\n",
    "    "
   ]
  },
  {
   "cell_type": "code",
   "execution_count": null,
   "metadata": {},
   "outputs": [],
   "source": [
    "run_data(data)"
   ]
  },
  {
   "cell_type": "code",
   "execution_count": null,
   "metadata": {},
   "outputs": [],
   "source": [
    "for idx in range(len(data)):\n",
    "    instruction, value = re.match('([a-z]{3}) \\+?(-?[0-9]+)', data[idx]).groups()\n",
    "    new_data = data.copy()\n",
    "    if instruction == 'jmp':\n",
    "        new_data[idx] = 'nop {}'.format(value)\n",
    "    elif instruction == 'nop':\n",
    "        new_data[idx] = 'jmp {}'.format(value)\n",
    "    elif instruction == 'acc':\n",
    "        next\n",
    "    cont = run_data(new_data)\n",
    "    if(not cont):\n",
    "        break"
   ]
  },
  {
   "cell_type": "markdown",
   "metadata": {},
   "source": [
    "# Day 9"
   ]
  },
  {
   "cell_type": "code",
   "execution_count": null,
   "metadata": {},
   "outputs": [],
   "source": [
    "data = get_data(9)\n",
    "test = get_test_data(9)\n",
    "data"
   ]
  },
  {
   "cell_type": "code",
   "execution_count": null,
   "metadata": {},
   "outputs": [],
   "source": [
    "for i in range(25, 1000):\n",
    "    matrix = nums[(i-25):i].reshape(1, 25) + nums[(i-25):i].reshape(25, 1)\n",
    "    if(nums[i] not in matrix):\n",
    "        print(nums[i])\n",
    "        break\n",
    "        \n",
    "    "
   ]
  },
  {
   "cell_type": "code",
   "execution_count": null,
   "metadata": {},
   "outputs": [],
   "source": [
    "def break_code(n, nums):\n",
    "    for i in range(len(nums)):\n",
    "        min_idx = i\n",
    "        minimum = nums[i]\n",
    "        s = 0\n",
    "        while(s < n):\n",
    "            s+= nums[i]\n",
    "            i += 1\n",
    "            if s == n:\n",
    "                return(min(nums[min_idx:i]), max(nums[min_idx:i]))\n"
   ]
  },
  {
   "cell_type": "code",
   "execution_count": null,
   "metadata": {},
   "outputs": [],
   "source": [
    "sum(break_code(675280050, nums))"
   ]
  },
  {
   "cell_type": "markdown",
   "metadata": {},
   "source": [
    "# Day 10"
   ]
  },
  {
   "cell_type": "code",
   "execution_count": null,
   "metadata": {},
   "outputs": [],
   "source": [
    "data = get_data(10)\n",
    "test = get_test_data(10)\n",
    "data"
   ]
  },
  {
   "cell_type": "code",
   "execution_count": null,
   "metadata": {},
   "outputs": [],
   "source": [
    "data = [int(d) for d in data]\n",
    "data.append(max(data) + 3)\n",
    "data.append(0)\n",
    "data.sort()\n",
    "print(sum(np.diff(data) == 1), (sum(np.diff(data) == 3)))"
   ]
  },
  {
   "cell_type": "code",
   "execution_count": null,
   "metadata": {},
   "outputs": [],
   "source": [
    "sum(np.diff(data) == 1) * (sum(np.diff(data) == 3))"
   ]
  },
  {
   "cell_type": "markdown",
   "metadata": {},
   "source": [
    "### Part 2"
   ]
  },
  {
   "cell_type": "code",
   "execution_count": null,
   "metadata": {},
   "outputs": [],
   "source": [
    "transitions = np.diff(data)"
   ]
  },
  {
   "cell_type": "code",
   "execution_count": null,
   "metadata": {},
   "outputs": [],
   "source": [
    "runs = []\n",
    "i = 0\n",
    "run = 1\n",
    "while(i < len(transitions)):\n",
    "\n",
    "    if transitions[i] == 1:\n",
    "        run +=1\n",
    "    else:\n",
    "        runs.append(run)\n",
    "        run = 1\n",
    "    i +=1\n"
   ]
  },
  {
   "cell_type": "code",
   "execution_count": null,
   "metadata": {},
   "outputs": [],
   "source": [
    "min(runs), max(runs)"
   ]
  },
  {
   "cell_type": "markdown",
   "metadata": {},
   "source": [
    "### There is a max runs of 5. \n",
    "\n",
    "A run is a set of 1-jump transitions in a row. The number of permutations for a row is a Tribonacci sequence. WHICH I DID NOT KNOW UNTIL AFTER I FINISHED. \n",
    "\n",
    "1:\n",
    "- 1\n",
    "\n",
    "2:\n",
    "- 1 2\n",
    "\n",
    "3:\n",
    "- 1 2 3\n",
    "- 1 3\n",
    "\n",
    "4: \n",
    "- 1 2 3 4\n",
    "- 1 3 4\n",
    "- 1 2 4\n",
    "- 1 4\n",
    "\n",
    "5:\n",
    "- 1 2 3 4 5\n",
    "- 1 3 4 5\n",
    "- 1 2 4 5\n",
    "- 1 4 5\n",
    "- 1 2 3 5\n",
    "- 1 3 5\n",
    "- 1 2 5\n"
   ]
  },
  {
   "cell_type": "code",
   "execution_count": null,
   "metadata": {},
   "outputs": [],
   "source": [
    "mapping = {1:1,\n",
    "          2:1,\n",
    "          3:2,\n",
    "          4:4,\n",
    "          5:7}\n"
   ]
  },
  {
   "cell_type": "code",
   "execution_count": null,
   "metadata": {},
   "outputs": [],
   "source": [
    "np.prod([mapping[r] for r in runs])"
   ]
  }
 ],
 "metadata": {
  "kernelspec": {
   "display_name": "Python [conda env:datasci]",
   "language": "python",
   "name": "conda-env-datasci-py"
  },
  "language_info": {
   "codemirror_mode": {
    "name": "ipython",
    "version": 3
   },
   "file_extension": ".py",
   "mimetype": "text/x-python",
   "name": "python",
   "nbconvert_exporter": "python",
   "pygments_lexer": "ipython3",
   "version": "3.8.5"
  }
 },
 "nbformat": 4,
 "nbformat_minor": 4
}
