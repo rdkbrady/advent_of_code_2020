{
 "cells": [
  {
   "cell_type": "code",
   "execution_count": null,
   "metadata": {},
   "outputs": [],
   "source": [
    "import re\n",
    "import numpy as np\n",
    "from scripts.scrape import get_data, get_test_data\n",
    "\n"
   ]
  },
  {
   "cell_type": "markdown",
   "metadata": {},
   "source": [
    "# Day 8"
   ]
  },
  {
   "cell_type": "code",
   "execution_count": null,
   "metadata": {},
   "outputs": [],
   "source": [
    "data = get_data(8)\n",
    "test = get_test_data(8)\n",
    "data"
   ]
  },
  {
   "cell_type": "code",
   "execution_count": null,
   "metadata": {},
   "outputs": [],
   "source": [
    "def run_data(data):\n",
    "    visited = np.zeros(len(data))\n",
    "    accumulator = 0\n",
    "    idx = 0\n",
    "    while(visited[idx] == 0):\n",
    "        visited[idx] = 1\n",
    "        instruction, value = re.split(' ', data[idx])\n",
    "        value = int(value)\n",
    "        if instruction == 'acc':\n",
    "            accumulator += value\n",
    "            idx += 1\n",
    "        elif instruction == 'jmp':\n",
    "            idx += value\n",
    "        else:\n",
    "            idx +=1\n",
    "        if idx == len(data) - 1:\n",
    "            print('finished')\n",
    "            print(accumulator)\n",
    "            return(None)\n",
    "    return(accumulator)\n",
    "    "
   ]
  },
  {
   "cell_type": "code",
   "execution_count": null,
   "metadata": {},
   "outputs": [],
   "source": [
    "run_data(data)"
   ]
  },
  {
   "cell_type": "code",
   "execution_count": null,
   "metadata": {},
   "outputs": [],
   "source": [
    "for idx in range(len(data)):\n",
    "    instruction, value = re.match('([a-z]{3}) \\+?(-?[0-9]+)', data[idx]).groups()\n",
    "    new_data = data.copy()\n",
    "    if instruction == 'jmp':\n",
    "        new_data[idx] = 'nop {}'.format(value)\n",
    "    elif instruction == 'nop':\n",
    "        new_data[idx] = 'jmp {}'.format(value)\n",
    "    elif instruction == 'acc':\n",
    "        next\n",
    "    cont = run_data(new_data)\n",
    "    if(not cont):\n",
    "        break"
   ]
  },
  {
   "cell_type": "markdown",
   "metadata": {},
   "source": [
    "# Day 9"
   ]
  },
  {
   "cell_type": "code",
   "execution_count": null,
   "metadata": {},
   "outputs": [],
   "source": [
    "data = get_data(9)\n",
    "test = get_test_data(9)\n",
    "data"
   ]
  },
  {
   "cell_type": "code",
   "execution_count": null,
   "metadata": {},
   "outputs": [],
   "source": [
    "for i in range(25, 1000):\n",
    "    matrix = nums[(i-25):i].reshape(1, 25) + nums[(i-25):i].reshape(25, 1)\n",
    "    if(nums[i] not in matrix):\n",
    "        print(nums[i])\n",
    "        break\n",
    "        \n",
    "    "
   ]
  },
  {
   "cell_type": "code",
   "execution_count": null,
   "metadata": {},
   "outputs": [],
   "source": [
    "def break_code(n, nums):\n",
    "    for i in range(len(nums)):\n",
    "        min_idx = i\n",
    "        minimum = nums[i]\n",
    "        s = 0\n",
    "        while(s < n):\n",
    "            s+= nums[i]\n",
    "            i += 1\n",
    "            if s == n:\n",
    "                return(min(nums[min_idx:i]), max(nums[min_idx:i]))\n"
   ]
  },
  {
   "cell_type": "code",
   "execution_count": null,
   "metadata": {},
   "outputs": [],
   "source": [
    "sum(break_code(675280050, nums))"
   ]
  },
  {
   "cell_type": "markdown",
   "metadata": {},
   "source": [
    "# Day 10"
   ]
  },
  {
   "cell_type": "code",
   "execution_count": null,
   "metadata": {},
   "outputs": [],
   "source": [
    "data = get_data(10)\n",
    "test = get_test_data(10)\n",
    "data"
   ]
  },
  {
   "cell_type": "code",
   "execution_count": null,
   "metadata": {},
   "outputs": [],
   "source": [
    "data = [int(d) for d in data]\n",
    "data.append(max(data) + 3)\n",
    "data.append(0)\n",
    "data.sort()\n",
    "print(sum(np.diff(data) == 1), (sum(np.diff(data) == 3)))"
   ]
  },
  {
   "cell_type": "code",
   "execution_count": null,
   "metadata": {},
   "outputs": [],
   "source": [
    "sum(np.diff(data) == 1) * (sum(np.diff(data) == 3))"
   ]
  },
  {
   "cell_type": "markdown",
   "metadata": {},
   "source": [
    "### Part 2"
   ]
  },
  {
   "cell_type": "code",
   "execution_count": null,
   "metadata": {},
   "outputs": [],
   "source": [
    "transitions = np.diff(data)"
   ]
  },
  {
   "cell_type": "code",
   "execution_count": null,
   "metadata": {},
   "outputs": [],
   "source": [
    "runs = []\n",
    "i = 0\n",
    "run = 1\n",
    "while(i < len(transitions)):\n",
    "\n",
    "    if transitions[i] == 1:\n",
    "        run +=1\n",
    "    else:\n",
    "        runs.append(run)\n",
    "        run = 1\n",
    "    i +=1\n"
   ]
  },
  {
   "cell_type": "code",
   "execution_count": null,
   "metadata": {},
   "outputs": [],
   "source": [
    "min(runs), max(runs)"
   ]
  },
  {
   "cell_type": "markdown",
   "metadata": {},
   "source": [
    "### There is a max runs of 5. \n",
    "\n",
    "A run is a set of 1-jump transitions in a row. The number of permutations for a row is a Tribonacci sequence. WHICH I DID NOT KNOW UNTIL AFTER I FINISHED. \n",
    "\n",
    "1:\n",
    "- 1\n",
    "\n",
    "2:\n",
    "- 1 2\n",
    "\n",
    "3:\n",
    "- 1 2 3\n",
    "- 1 3\n",
    "\n",
    "4: \n",
    "- 1 2 3 4\n",
    "- 1 3 4\n",
    "- 1 2 4\n",
    "- 1 4\n",
    "\n",
    "5:\n",
    "- 1 2 3 4 5\n",
    "- 1 3 4 5\n",
    "- 1 2 4 5\n",
    "- 1 4 5\n",
    "- 1 2 3 5\n",
    "- 1 3 5\n",
    "- 1 2 5\n"
   ]
  },
  {
   "cell_type": "code",
   "execution_count": null,
   "metadata": {},
   "outputs": [],
   "source": [
    "mapping = {1:1,\n",
    "          2:1,\n",
    "          3:2,\n",
    "          4:4,\n",
    "          5:7}\n"
   ]
  },
  {
   "cell_type": "code",
   "execution_count": null,
   "metadata": {},
   "outputs": [],
   "source": [
    "np.prod([mapping[r] for r in runs])"
   ]
  },
  {
   "cell_type": "markdown",
   "metadata": {},
   "source": [
    "# Day 11\n",
    "\n",
    "This one was so frustrating for me. I recognized as a version of Conway's Game of Life, but the example says: \n",
    "\n",
    "    At this point, something interesting happens: the chaos stabilizes and further applications of these rules cause no seats to change state!\n",
    "    \n",
    "And I interpreted this to mean \"after 5 applications, the system stabilizes and rules don't apply\". So I ran mine for 5 iterations instead of \"to stability\" and I couldn't figure out why it wasn't giving me the right answer. Ended up reading the question over and over like 60 times before I realized I had misinterpreted it. I'm not sure how I improve such that I understand the question correctly, especially since my code worked on the test case."
   ]
  },
  {
   "cell_type": "code",
   "execution_count": null,
   "metadata": {},
   "outputs": [],
   "source": [
    "data = get_data(11)\n",
    "test = get_test_data(11)\n",
    "data"
   ]
  },
  {
   "cell_type": "code",
   "execution_count": null,
   "metadata": {},
   "outputs": [],
   "source": [
    "def get_instruction(x, y, data):\n",
    "    padded_data = np.pad(data, mode='constant', pad_width=1)    \n",
    "    sub = padded_data[x:x+3, y:y+3]\n",
    "    sub[1,1] = 0\n",
    "    \n",
    "    this_seat = data[x,y]\n",
    "    occupied_neighbors = np.sum(sub == '#')\n",
    "    \n",
    "    # Fill if empty:\n",
    "    if (occupied_neighbors == 0) & (this_seat == 'L'):\n",
    "        return 'sit'\n",
    "    if (occupied_neighbors >= 4) & (this_seat == '#'):\n",
    "        return 'leave'\n",
    "    else: \n",
    "        return -1"
   ]
  },
  {
   "cell_type": "code",
   "execution_count": null,
   "metadata": {},
   "outputs": [],
   "source": [
    "data = np.array([list(d) for d in get_data(11)])\n",
    "starting_empties = np.where(data=='.')\n",
    "instruction = np.empty([data.shape[0], data.shape[1]]).astype(str)\n",
    "\n",
    "print(np.sum(data == '.'), np.sum(data == '#'), np.sum(data == 'L'))\n",
    "last = data.copy()\n",
    "\n",
    "while(True):\n",
    "    for i in range(0, data.shape[0]):\n",
    "        for j in range(0,  data.shape[1]):\n",
    "            instruction[i, j] = get_instruction(i, j,  data)\n",
    "    data[instruction == 'sit'] = '#'\n",
    "    data[instruction == 'leave'] = 'L'\n",
    "    print(np.sum(data == '.'), np.sum(data == '#'), np.sum(data == 'L'))\n",
    "    if (last == data).all():\n",
    "        break\n",
    "    last = data.copy()"
   ]
  },
  {
   "cell_type": "code",
   "execution_count": null,
   "metadata": {},
   "outputs": [],
   "source": [
    "def get_seat(x, y, dir_x, dir_y, data):\n",
    "    i = 1\n",
    "    while(True):\n",
    "        target_x = x + dir_x * i\n",
    "        target_y = y + dir_y * i\n",
    "        if (target_x < 0) | (target_x >= data.shape[0]) | (target_y < 0) | (target_y >= data.shape[1]):\n",
    "            return '.'\n",
    "        elif (data[target_x, target_y] != '.'):\n",
    "            return data[target_x, target_y]\n",
    "        else:\n",
    "            i+=1\n",
    "        \n",
    "def get_instruction_2(x, y, data):\n",
    "\n",
    "    sub = np.empty([3,3]).astype('str')\n",
    "    \n",
    "    for i in np.arange(-1,2):\n",
    "        for j in np.arange(-1,2):\n",
    "            if not ((i==0) & (j==0)):\n",
    "                sub[i+1,j+1] = get_seat(x,y,i,j,data)\n",
    "    \n",
    "    this_seat = data[x,y]\n",
    "    occupied_neighbors = np.sum(sub == '#')\n",
    "    \n",
    "    # Fill if empty:\n",
    "    if (occupied_neighbors == 0) & (this_seat == 'L'):\n",
    "        return 'sit'\n",
    "    if (occupied_neighbors >= 5) & (this_seat == '#'):\n",
    "        return 'leave'\n",
    "    else: \n",
    "        return -1"
   ]
  },
  {
   "cell_type": "code",
   "execution_count": null,
   "metadata": {},
   "outputs": [],
   "source": [
    "data = np.array([list(d) for d in get_data(11)])\n",
    "starting_empties = np.where(data=='.')\n",
    "instruction = np.empty([data.shape[0], data.shape[1]]).astype(str)\n",
    "\n",
    "print(np.sum(data == '.'), np.sum(data == '#'), np.sum(data == 'L'))\n",
    "last = data.copy()\n",
    "\n",
    "while(True):\n",
    "    for i in range(0, data.shape[0]):\n",
    "        for j in range(0,  data.shape[1]):\n",
    "            instruction[i, j] = get_instruction_2(i, j,  data)\n",
    "    data[instruction == 'sit'] = '#'\n",
    "    data[instruction == 'leave'] = 'L'\n",
    "    print(np.sum(data == '.'), np.sum(data == '#'), np.sum(data == 'L'))\n",
    "    if (last == data).all():\n",
    "        break\n",
    "    last = data.copy()"
   ]
  }
 ],
 "metadata": {
  "kernelspec": {
   "display_name": "Python [conda env:datasci]",
   "language": "python",
   "name": "conda-env-datasci-py"
  },
  "language_info": {
   "codemirror_mode": {
    "name": "ipython",
    "version": 3
   },
   "file_extension": ".py",
   "mimetype": "text/x-python",
   "name": "python",
   "nbconvert_exporter": "python",
   "pygments_lexer": "ipython3",
   "version": "3.8.5"
  }
 },
 "nbformat": 4,
 "nbformat_minor": 4
}
