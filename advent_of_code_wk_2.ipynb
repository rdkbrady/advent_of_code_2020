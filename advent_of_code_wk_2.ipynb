{
 "cells": [
  {
   "cell_type": "code",
   "execution_count": null,
   "metadata": {},
   "outputs": [],
   "source": [
    "import re\n",
    "import numpy as np\n",
    "from scripts.scrape import get_data, get_test_data\n",
    "\n"
   ]
  },
  {
   "cell_type": "markdown",
   "metadata": {},
   "source": [
    "# Day 8"
   ]
  },
  {
   "cell_type": "code",
   "execution_count": null,
   "metadata": {},
   "outputs": [],
   "source": [
    "data = get_data(8)\n",
    "test = get_test_data(8)\n",
    "data"
   ]
  },
  {
   "cell_type": "code",
   "execution_count": null,
   "metadata": {},
   "outputs": [],
   "source": [
    "def run_data(data):\n",
    "    visited = np.zeros(len(data))\n",
    "    accumulator = 0\n",
    "    idx = 0\n",
    "    while(visited[idx] == 0):\n",
    "        visited[idx] = 1\n",
    "        instruction, value = re.match('([a-z]{3}) ([0-9+-]+)', data[idx]).groups()\n",
    "        value = int(value)\n",
    "        if instruction == 'acc':\n",
    "            accumulator += value\n",
    "            idx += 1\n",
    "        elif instruction == 'jmp':\n",
    "            idx += value\n",
    "        else:\n",
    "            idx +=1\n",
    "        if idx == len(data) - 1:\n",
    "            print('finished')\n",
    "            print(accumulator)\n",
    "            return(None)\n",
    "    return(accumulator)\n",
    "    "
   ]
  },
  {
   "cell_type": "code",
   "execution_count": null,
   "metadata": {},
   "outputs": [],
   "source": [
    "run_data(data)"
   ]
  },
  {
   "cell_type": "code",
   "execution_count": null,
   "metadata": {},
   "outputs": [],
   "source": [
    "for idx in range(len(data)):\n",
    "    instruction, value = re.match('([a-z]{3}) \\+?(-?[0-9]+)', data[idx]).groups()\n",
    "    new_data = data.copy()\n",
    "    if instruction == 'jmp':\n",
    "        new_data[idx] = 'nop {}'.format(value)\n",
    "    elif instruction == 'nop':\n",
    "        new_data[idx] = 'jmp {}'.format(value)\n",
    "    elif instruction == 'acc':\n",
    "        next\n",
    "    cont = run_data(new_data)\n",
    "    if(not cont):\n",
    "        break"
   ]
  },
  {
   "cell_type": "code",
   "execution_count": null,
   "metadata": {},
   "outputs": [],
   "source": []
  }
 ],
 "metadata": {
  "kernelspec": {
   "display_name": "Python [conda env:datasci]",
   "language": "python",
   "name": "conda-env-datasci-py"
  },
  "language_info": {
   "codemirror_mode": {
    "name": "ipython",
    "version": 3
   },
   "file_extension": ".py",
   "mimetype": "text/x-python",
   "name": "python",
   "nbconvert_exporter": "python",
   "pygments_lexer": "ipython3",
   "version": "3.8.5"
  }
 },
 "nbformat": 4,
 "nbformat_minor": 4
}
