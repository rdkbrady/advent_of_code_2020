{
 "cells": [
  {
   "cell_type": "code",
   "execution_count": null,
   "metadata": {},
   "outputs": [],
   "source": [
    "import requests\n",
    "import re\n",
    "\n",
    "headers = {\n",
    "'authority': 'adventofcode.com',\n",
    "'cache-control': 'max-age=0',\n",
    "'upgrade-insecure-requests': '1',\n",
    "'user-agent': 'Mozilla/5.0 (Macintosh; Intel Mac OS X 10_15_7) AppleWebKit/537.36 (KHTML, like Gecko) Chrome/86.0.4240.198 Safari/537.36',\n",
    "'accept': 'text/html,application/xhtml+xml,application/xml;q=0.9,image/avif,image/webp,image/apng,*/*;q=0.8,application/signed-exchange;v=b3;q=0.9',\n",
    "'sec-fetch-site': 'same-origin',\n",
    "'sec-fetch-mode': 'navigate',\n",
    "'sec-fetch-user': '?1',\n",
    "'sec-fetch-dest': 'document',\n",
    "'referer': 'https://adventofcode.com/2020/day/2',\n",
    "'accept-language': 'en-US,en;q=0.9',\n",
    "'cookie': '_ga=GA1.2.805595945.1606803955; _gid=GA1.2.748889626.1606803955; session=53616c7465645f5f6d8cff0a87776eab1e5f75ed23e6ddaf9eb0c7fb9aab9dcb1de53c3476516643c2744ddc818805ce'\n",
    "}"
   ]
  },
  {
   "cell_type": "markdown",
   "metadata": {},
   "source": [
    "# Day 1"
   ]
  },
  {
   "cell_type": "code",
   "execution_count": null,
   "metadata": {},
   "outputs": [],
   "source": [
    "import numpy as np"
   ]
  },
  {
   "cell_type": "code",
   "execution_count": null,
   "metadata": {},
   "outputs": [],
   "source": [
    "# Get data\n",
    "r = requests.get(\"https://adventofcode.com/2020/day/1/input\", headers = headers)\n",
    "\n",
    "# Split on linebreaks and remove empty line at end\n",
    "lines = r.text.split('\\n')[:-1]\n",
    "\n",
    "# Convert to a numpy array of ints\n",
    "nums = np.array([int(x) for x in lines])\n",
    "\n",
    "# Part 1\n",
    "# Use broadcasting to get a 200x200 of sums\n",
    "sums = nums.reshape(1, 200) + nums.reshape(200,1)\n",
    "# Get the indices of the values that add to 2020. There are 2 versions of them because this way gets both orders.\n",
    "idx = [x[0] for x in np.where(sums == 2020)]\n",
    "# Show result\n",
    "print(np.prod(nums[idx]))\n",
    "\n",
    "# Part 2\n",
    "# Use broadcasting to get a 200x200x200 of sums\n",
    "sums = nums.reshape(1, 1, 200) + nums.reshape(1, 200, 1) + nums.reshape(200, 1, 1)\n",
    "# Get the indices of the values that add to 2020. There are 6 versions of them because this way gets all orders.\n",
    "idx = [x[0] for x in np.where(sums == 2020)]\n",
    "# Show result\n",
    "print(np.prod(nums[idx]))"
   ]
  },
  {
   "cell_type": "markdown",
   "metadata": {},
   "source": [
    "# Day 2"
   ]
  },
  {
   "cell_type": "code",
   "execution_count": null,
   "metadata": {},
   "outputs": [],
   "source": [
    "r = requests.get(\"https://adventofcode.com/2020/day/2/input\", headers = headers)\n",
    "\n",
    "lines = r.text.split('\\n')[:-1]\n"
   ]
  },
  {
   "cell_type": "code",
   "execution_count": null,
   "metadata": {},
   "outputs": [],
   "source": [
    "\n",
    "def parse(line):\n",
    "    return(re.split('[-\\s:]\\s?', line))"
   ]
  },
  {
   "cell_type": "code",
   "execution_count": null,
   "metadata": {},
   "outputs": [],
   "source": [
    "[parse(l) for l in lines]"
   ]
  },
  {
   "cell_type": "code",
   "execution_count": null,
   "metadata": {},
   "outputs": [],
   "source": [
    "def check_password(min, max, char, password):\n",
    "    count = password.count(char)\n",
    "    if (count >= int(min)) & (count <= int(max)):\n",
    "        return True\n",
    "    else:\n",
    "        return False\n",
    "    \n",
    "# Use star args to pass in all 4 values from a parsed line into the function.\n",
    "sum([check_password(*parse(l)) for l in lines])    "
   ]
  },
  {
   "cell_type": "code",
   "execution_count": null,
   "metadata": {},
   "outputs": [],
   "source": [
    "def check_password_2(pos1, pos2, char, password):\n",
    "    # ^ is bitwise XOR operator (True if only one is True)\n",
    "    return (password[int(pos1)-1] == char) ^ (password[int(pos2)-1] == char)\n",
    "\n",
    "# Use star args to pass in all 4 values from a parsed line into the function.\n",
    "sum([check_password_2(*parse(l)) for l in lines])    "
   ]
  },
  {
   "cell_type": "markdown",
   "metadata": {},
   "source": [
    "# Day 3"
   ]
  },
  {
   "cell_type": "code",
   "execution_count": null,
   "metadata": {},
   "outputs": [],
   "source": [
    "r = requests.get(\"https://adventofcode.com/2020/day/3/input\", headers = headers)\n"
   ]
  },
  {
   "cell_type": "code",
   "execution_count": null,
   "metadata": {},
   "outputs": [],
   "source": []
  },
  {
   "cell_type": "code",
   "execution_count": null,
   "metadata": {},
   "outputs": [],
   "source": []
  }
 ],
 "metadata": {
  "kernelspec": {
   "display_name": "Python [conda env:datasci]",
   "language": "python",
   "name": "conda-env-datasci-py"
  },
  "language_info": {
   "codemirror_mode": {
    "name": "ipython",
    "version": 3
   },
   "file_extension": ".py",
   "mimetype": "text/x-python",
   "name": "python",
   "nbconvert_exporter": "python",
   "pygments_lexer": "ipython3",
   "version": "3.8.5"
  }
 },
 "nbformat": 4,
 "nbformat_minor": 4
}
